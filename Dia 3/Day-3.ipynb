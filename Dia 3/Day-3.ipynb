{
 "cells": [
  {
   "cell_type": "markdown",
   "id": "4d1255b5-2184-4da7-af18-38a9c5e0eb9b",
   "metadata": {},
   "source": [
    "# Day three - Control Flow and Logical Operators"
   ]
  },
  {
   "cell_type": "markdown",
   "id": "6cee4ed8-98fb-4607-b060-c981fae66cff",
   "metadata": {},
   "source": [
    "## Conditional Statements:\n",
    "\n",
    "* Controls overflow: if/else:\n",
    "\n",
    " if condition:\n",
    " \n",
    "     do this\n",
    " \n",
    " else: \n",
    " \n",
    "     do this\n",
    " "
   ]
  },
  {
   "cell_type": "markdown",
   "id": "41e6a64a-9591-49f2-a703-122096b59cda",
   "metadata": {},
   "source": [
    "### Example: \n",
    "\n",
    "* You need to check height before sell an ticket to the rollercoaster.\n"
   ]
  },
  {
   "cell_type": "code",
   "execution_count": 4,
   "id": "672c758c-a77c-4a3e-b274-4eaeea399b89",
   "metadata": {},
   "outputs": [
    {
     "name": "stdout",
     "output_type": "stream",
     "text": [
      "Welcome to the rollercoaster!\n"
     ]
    },
    {
     "name": "stdin",
     "output_type": "stream",
     "text": [
      "What's your height in cm? 165\n"
     ]
    },
    {
     "name": "stdout",
     "output_type": "stream",
     "text": [
      "You can ride the rollercoaster!\n"
     ]
    }
   ],
   "source": [
    "print(\"Welcome to the rollercoaster!\")\n",
    "height = int(input(\"What's your height in cm?\"))\n",
    "\n",
    "if height > 120:\n",
    "    print(\"You can ride the rollercoaster!\")\n",
    "else:\n",
    "    print(\"I'm sorry, you need to grow taller to ride the rollercoaster.\")"
   ]
  },
  {
   "cell_type": "markdown",
   "id": "9ce41171-e7a3-4935-ad48-a1d26659a3d4",
   "metadata": {},
   "source": [
    "* Control Statements: > (higher than), < (lower than), >= (higher or equal to), <= (lower or equal to), == (equal to), != (not equal)"
   ]
  },
  {
   "cell_type": "code",
   "execution_count": 6,
   "id": "acf5903b-b679-4d42-9323-fe663b7a5016",
   "metadata": {},
   "outputs": [
    {
     "name": "stdin",
     "output_type": "stream",
     "text": [
      " 5\n"
     ]
    },
    {
     "name": "stdout",
     "output_type": "stream",
     "text": [
      "Esse número é impar\n"
     ]
    }
   ],
   "source": [
    "number = int(input())\n",
    "calc = number % 2\n",
    "result = calc\n",
    "\n",
    "if result == 0:\n",
    "    print(\"Esse número é par\")\n",
    "else:\n",
    "    print(\"Esse número é impar\")"
   ]
  },
  {
   "cell_type": "code",
   "execution_count": 9,
   "id": "bdc28304-ff26-4867-b6ce-99da142ca156",
   "metadata": {},
   "outputs": [
    {
     "name": "stdin",
     "output_type": "stream",
     "text": [
      " 5\n"
     ]
    },
    {
     "name": "stdout",
     "output_type": "stream",
     "text": [
      "This is an odd number.\n"
     ]
    }
   ],
   "source": [
    "number = int(input())\n",
    "\n",
    "if number % 2 == 0:\n",
    "    print(\"This is an even number.\")\n",
    "else:\n",
    "    print(\"This is an odd number.\")"
   ]
  },
  {
   "cell_type": "markdown",
   "id": "acee1f50-70ce-46c9-91a9-72bfdddbb223",
   "metadata": {},
   "source": [
    "## Nested if/elif/else statements:\n",
    "\n",
    "if condition:\n",
    "\n",
    "    if another condition:\n",
    "    \n",
    "    do this\n",
    "    \n",
    "    else:\n",
    "    do this\n",
    "    \n",
    "else:\n",
    "\n",
    "    do this"
   ]
  },
  {
   "cell_type": "markdown",
   "id": "fa26d1d9-f51c-40ae-a27f-864d356e1f99",
   "metadata": {},
   "source": [
    "### Rollercoaster Example: (nesting if/else)"
   ]
  },
  {
   "cell_type": "code",
   "execution_count": 13,
   "id": "1410c97b-212f-459d-a9d9-55c90c96d7d3",
   "metadata": {},
   "outputs": [
    {
     "name": "stdout",
     "output_type": "stream",
     "text": [
      "Welcome to the rollercoaster!\n"
     ]
    },
    {
     "name": "stdin",
     "output_type": "stream",
     "text": [
      "What's your height in cm? 180\n"
     ]
    },
    {
     "name": "stdout",
     "output_type": "stream",
     "text": [
      "You can ride the rollercoaster!\n"
     ]
    },
    {
     "name": "stdin",
     "output_type": "stream",
     "text": [
      "What's your age?  28\n"
     ]
    },
    {
     "name": "stdout",
     "output_type": "stream",
     "text": [
      "Ticket cost: $12\n"
     ]
    }
   ],
   "source": [
    "print(\"Welcome to the rollercoaster!\")\n",
    "height = int(input(\"What's your height in cm?\"))\n",
    "\n",
    "if height > 120:\n",
    "    print(\"You can ride the rollercoaster!\")\n",
    "    age = int(input(\"What's your age? \"))\n",
    "    if age <= 18:\n",
    "        print(\"Ticket cost: $7\")\n",
    "    else:\n",
    "        print(\"Ticket cost: $12\")\n",
    "else:\n",
    "    print(\"I'm sorry, you need to grow taller to ride the rollercoaster.\")"
   ]
  },
  {
   "cell_type": "markdown",
   "id": "11dda0e6-4674-4c69-b52c-4a57930ab1ce",
   "metadata": {},
   "source": [
    "### Roller Coaster Example: (nesting if/elif/else)"
   ]
  },
  {
   "cell_type": "code",
   "execution_count": 14,
   "id": "22487489-d875-49ca-93ea-b5f579cdccfc",
   "metadata": {},
   "outputs": [
    {
     "name": "stdout",
     "output_type": "stream",
     "text": [
      "Welcome to the rollercoaster!\n"
     ]
    },
    {
     "name": "stdin",
     "output_type": "stream",
     "text": [
      "What's your height in cm? 180\n"
     ]
    },
    {
     "name": "stdout",
     "output_type": "stream",
     "text": [
      "You can ride the rollercoaster!\n"
     ]
    },
    {
     "name": "stdin",
     "output_type": "stream",
     "text": [
      "What's your age?  13\n"
     ]
    },
    {
     "name": "stdout",
     "output_type": "stream",
     "text": [
      "Ticket cost: $7\n"
     ]
    }
   ],
   "source": [
    "print(\"Welcome to the rollercoaster!\")\n",
    "height = int(input(\"What's your height in cm?\"))\n",
    "\n",
    "if height > 120:\n",
    "    print(\"You can ride the rollercoaster!\")\n",
    "    age = int(input(\"What's your age? \"))\n",
    "    if age < 12:\n",
    "        print(\"Ticket cost: $5\")\n",
    "    elif age <= 18:\n",
    "        print(\"Ticket cost: $7\")\n",
    "    else:\n",
    "        print(\"Ticket cost: $12\")\n",
    "else:\n",
    "    print(\"I'm sorry, you need to grow taller to ride the rollercoaster.\")"
   ]
  },
  {
   "cell_type": "markdown",
   "id": "081ab46e-9a7e-46f7-b1e9-386bd58b1499",
   "metadata": {},
   "source": [
    "# BMI Calculator 2.0 (if/elif/else) exercise:"
   ]
  },
  {
   "cell_type": "code",
   "execution_count": 17,
   "id": "96f01dcd-0c2f-4a6f-8869-5547d28e9ca6",
   "metadata": {},
   "outputs": [
    {
     "name": "stdin",
     "output_type": "stream",
     "text": [
      "What's your height?  1.80\n",
      "What's your weight?  60\n"
     ]
    },
    {
     "name": "stdout",
     "output_type": "stream",
     "text": [
      "Your BMI is 18.52, you have a normal weight.\n"
     ]
    }
   ],
   "source": [
    "height = float(input(\"What's your height? \"))\n",
    "weight = int(input(\"What's your weight? \"))\n",
    "\n",
    "bmi = round(weight / height ** 2, 2)\n",
    "\n",
    "if bmi < 18.5:\n",
    "  print(f'Your BMI is {bmi}, you are underweight.')\n",
    "elif bmi < 25:\n",
    "  print(f'Your BMI is {bmi}, you have a normal weight.')\n",
    "elif bmi < 30:\n",
    "  print(f'Your BMI is {bmi}, you are slightly overweight.')\n",
    "elif bmi < 35:\n",
    "  print(f'Your BMI is {bmi}, you are obese.')\n",
    "else:\n",
    "  print(f'Your BMI is {bmi}, you are clinically obese.')"
   ]
  },
  {
   "cell_type": "markdown",
   "id": "3477e292-9c41-4b55-bdf4-52b2862c6931",
   "metadata": {},
   "source": [
    "# Multiple ifs:"
   ]
  },
  {
   "cell_type": "markdown",
   "id": "1d92bbf7-8f01-483e-9afa-e58aa173bb4c",
   "metadata": {},
   "source": [
    "* Multiple ifs are used to check more than one condition in the same context:"
   ]
  },
  {
   "cell_type": "code",
   "execution_count": 31,
   "id": "87537ea5-18ba-47c0-a8e1-6d353c20ef8a",
   "metadata": {},
   "outputs": [
    {
     "name": "stdout",
     "output_type": "stream",
     "text": [
      "Welcome to the rollercoaster!\n"
     ]
    },
    {
     "name": "stdin",
     "output_type": "stream",
     "text": [
      "What is your height in cm?  180\n"
     ]
    },
    {
     "name": "stdout",
     "output_type": "stream",
     "text": [
      "You can ride the rollercoaster!\n"
     ]
    },
    {
     "name": "stdin",
     "output_type": "stream",
     "text": [
      "What is your age?  46\n"
     ]
    },
    {
     "name": "stdout",
     "output_type": "stream",
     "text": [
      "You deserve a free ticket!\n"
     ]
    },
    {
     "name": "stdin",
     "output_type": "stream",
     "text": [
      "Do you want a photo taken? Y or N.  Y\n"
     ]
    },
    {
     "name": "stdout",
     "output_type": "stream",
     "text": [
      "Your final bill is $3\n"
     ]
    }
   ],
   "source": [
    "print(\"Welcome to the rollercoaster!\")\n",
    "height = int(input(\"What is your height in cm? \"))\n",
    "bill = 0\n",
    "\n",
    "if height >= 120:\n",
    "  print(\"You can ride the rollercoaster!\")\n",
    "  age = int(input(\"What is your age? \"))\n",
    "  if age < 12:\n",
    "    bill = 5\n",
    "    print(\"Child tickets are $5.\")\n",
    "  elif age <= 18:\n",
    "    bill = 7\n",
    "    print(\"Youth tickets are $7.\")\n",
    "      \n",
    "  else:\n",
    "    bill = 12\n",
    "    print(\"Adult tickets are $12.\")\n",
    "  \n",
    "  wants_photo = input(\"Do you want a photo taken? Y or N. \")\n",
    "  if wants_photo == \"Y\":\n",
    "    bill += 3\n",
    "  \n",
    "  print(f\"Your final bill is ${bill}\")\n",
    "\n",
    "else:\n",
    "  print(\"Sorry, you have to grow taller before you can ride.\")"
   ]
  },
  {
   "cell_type": "markdown",
   "id": "dfb012e2-c419-4196-ac0a-c1c15bd16387",
   "metadata": {},
   "source": [
    "# Leap Year exercise:"
   ]
  },
  {
   "cell_type": "code",
   "execution_count": 4,
   "id": "3794e730-97ce-43ba-ba4d-ec654c2f536a",
   "metadata": {},
   "outputs": [
    {
     "name": "stdin",
     "output_type": "stream",
     "text": [
      "Choose an year to check: 2008\n"
     ]
    },
    {
     "name": "stdout",
     "output_type": "stream",
     "text": [
      "Leap year\n"
     ]
    }
   ],
   "source": [
    "year = int(input(\"Choose an year to check:\"))\n",
    "if year % 4 == 0:\n",
    "    if year % 100 == 0:\n",
    "        if year % 400 == 0:\n",
    "            print('Leap Year')\n",
    "        else:\n",
    "            print('Not leap year')\n",
    "    else:\n",
    "        print('Leap year')\n",
    "else:\n",
    "    print('Not leap year')\n",
    "    "
   ]
  },
  {
   "cell_type": "markdown",
   "id": "6c3c4067-cdeb-4a81-a540-ecf1d8a20fe9",
   "metadata": {},
   "source": [
    "# Python Pizza Deliveries exercise:"
   ]
  },
  {
   "cell_type": "code",
   "execution_count": 23,
   "id": "8e54488b-8c33-4cd1-a0ea-7b233ffdd8f3",
   "metadata": {},
   "outputs": [
    {
     "name": "stdout",
     "output_type": "stream",
     "text": [
      "Thank you for choosing Python Pizza Deliveries!\n"
     ]
    },
    {
     "name": "stdin",
     "output_type": "stream",
     "text": [
      "What's the size pizza do you want? S, M, or L L\n",
      "Do you want pepperoni? Y or N Y\n",
      "Do you want extra cheese? Y or N Y\n"
     ]
    },
    {
     "name": "stdout",
     "output_type": "stream",
     "text": [
      "Your final bill is: $29.\n"
     ]
    }
   ],
   "source": [
    "print(\"Thank you for choosing Python Pizza Deliveries!\")\n",
    "size = input(\"What's the size pizza do you want? S, M, or L\") # What size pizza do you want? S, M, or L\n",
    "add_pepperoni = input(\"Do you want pepperoni? Y or N\") # Do you want pepperoni? Y or N\n",
    "extra_cheese = input(\"Do you want extra cheese? Y or N\") # Do you want extra cheese? Y or N\n",
    "# 🚨 Don't change the code above 👆\n",
    "# Write your code below this line 👇\n",
    "\n",
    "bill = 0\n",
    "\n",
    "if size == \"S\":\n",
    "    bill = 15\n",
    "elif size == \"M\":\n",
    "    bill = 20\n",
    "elif size == \"L\":\n",
    "    bill = 25\n",
    "\n",
    "if add_pepperoni == \"Y\":\n",
    "    if size == \"S\":\n",
    "        bill += 2\n",
    "    else:\n",
    "        bill += 3\n",
    "\n",
    "if extra_cheese == \"Y\":\n",
    "    bill += 1\n",
    "\n",
    "print(f\"Your final bill is: ${bill}.\")"
   ]
  },
  {
   "cell_type": "markdown",
   "id": "660bbc85-7a7d-4696-94f6-7e74318c11d5",
   "metadata": {},
   "source": [
    "# Logical Operators"
   ]
  },
  {
   "cell_type": "markdown",
   "id": "eec83838-e11d-41c8-bf6f-1012f4dc7a9f",
   "metadata": {},
   "source": [
    "## Checking Multiple Conditions in the same line of code:"
   ]
  },
  {
   "cell_type": "markdown",
   "id": "94ceef74-a563-4ec1-bf10-aa7d6bc1ca9a",
   "metadata": {},
   "source": [
    "* and: when both statements are true or false"
   ]
  },
  {
   "cell_type": "markdown",
   "id": "c1dfb38d-cf24-4dc8-a10d-d32acf9f11f5",
   "metadata": {},
   "source": [
    "* or: when one of the statements are true, or false, OR both are equals"
   ]
  },
  {
   "cell_type": "markdown",
   "id": "0103eb9d-8dc5-4b34-8014-fbedb3ea5d7d",
   "metadata": {},
   "source": [
    "* not: revert a condition"
   ]
  },
  {
   "cell_type": "markdown",
   "id": "b6b19ab4-0b68-47c6-be3b-83fcd2c77dac",
   "metadata": {},
   "source": [
    "## Rollercoaster 4.0:"
   ]
  },
  {
   "cell_type": "code",
   "execution_count": 40,
   "id": "4c3e6504-a883-4cdb-86c5-a6eb1e1c5109",
   "metadata": {},
   "outputs": [
    {
     "name": "stdout",
     "output_type": "stream",
     "text": [
      "Welcome to the rollercoaster!\n"
     ]
    },
    {
     "name": "stdin",
     "output_type": "stream",
     "text": [
      "What is your height in cm?  180\n"
     ]
    },
    {
     "name": "stdout",
     "output_type": "stream",
     "text": [
      "You can ride the rollercoaster!\n"
     ]
    },
    {
     "name": "stdin",
     "output_type": "stream",
     "text": [
      "What is your age?  46\n"
     ]
    },
    {
     "name": "stdout",
     "output_type": "stream",
     "text": [
      "You deserve a free ticket!\n"
     ]
    },
    {
     "name": "stdin",
     "output_type": "stream",
     "text": [
      "Do you want a photo taken? Y or N.  Y\n"
     ]
    },
    {
     "name": "stdout",
     "output_type": "stream",
     "text": [
      "Free Photo! We're kind to midlife people. (Just Kidding)\n",
      "Your final bill is $0\n"
     ]
    }
   ],
   "source": [
    "print(\"Welcome to the rollercoaster!\")\n",
    "height = int(input(\"What is your height in cm? \"))\n",
    "bill = 0\n",
    "\n",
    "if height >= 120:\n",
    "    print(\"You can ride the rollercoaster!\")\n",
    "    age = int(input(\"What is your age? \"))\n",
    "    if age < 12:\n",
    "        bill = 5\n",
    "        print(\"Child tickets are $5.\")\n",
    "    elif age <= 18:\n",
    "        bill = 7\n",
    "        print(\"Youth tickets are $7.\")\n",
    "    elif age >= 45 and age < 55:\n",
    "        bill = 0                    \n",
    "        print(\"You deserve a free ticket!\")\n",
    "    else:\n",
    "        bill = 12\n",
    "        print(\"Adult tickets are $12.\")\n",
    "\n",
    "    wants_photo = input(\"Do you want a photo taken? Y or N. \")\n",
    "    if wants_photo == \"Y\":\n",
    "        bill += 3\n",
    "    if wants_photo == \"Y\" and age >= 45 and age <= 55:\n",
    "        bill -= 3\n",
    "        print(\"Free Photo! We're kind to midlife people. (Just Kidding)\")\n",
    "\n",
    "    print(f\"Your final bill is ${bill}\")\n",
    "\n",
    "else:\n",
    "    print(\"Sorry, you have to grow taller before you can ride.\")"
   ]
  },
  {
   "cell_type": "markdown",
   "id": "4a19296e-a68d-4043-90d0-62400ecacdb5",
   "metadata": {},
   "source": [
    "## Love Calculator exercise: "
   ]
  },
  {
   "cell_type": "code",
   "execution_count": 50,
   "id": "246e6ddd-69ef-43ac-a909-934904a57860",
   "metadata": {},
   "outputs": [
    {
     "name": "stdout",
     "output_type": "stream",
     "text": [
      "The Love Calculator is calculating your score...\n"
     ]
    },
    {
     "name": "stdin",
     "output_type": "stream",
     "text": [
      " Lucas Bellucci Almendra\n",
      " Larissa Nicoletti Casas\n"
     ]
    },
    {
     "name": "stdout",
     "output_type": "stream",
     "text": [
      "Your score is 910, you go together like coke and mentos.\n",
      "Your score is 910.\n"
     ]
    }
   ],
   "source": [
    "print(\"The Love Calculator is calculating your score...\")\n",
    "name1 = input()  # What is your name?\n",
    "name2 = input()  # What is their name?\n",
    "# Your code below this line 👇\n",
    "\n",
    "combined_names = name1 + name2\n",
    "lower_names = combined_names.lower()\n",
    "\n",
    "t = lower_names.count(\"t\")\n",
    "r = lower_names.count(\"r\")\n",
    "u = lower_names.count(\"u\")\n",
    "e = lower_names.count(\"e\")\n",
    "first_digit = t + r + u + e\n",
    "\n",
    "l = lower_names.count(\"l\")\n",
    "o = lower_names.count(\"o\")\n",
    "v = lower_names.count(\"v\")\n",
    "e = lower_names.count(\"e\")\n",
    "second_digit = l + o + v + e\n",
    "\n",
    "score = int(str(first_digit) + str(second_digit))\n",
    "\n",
    "if (score < 10) or (score > 90):\n",
    "    print(f\"Your score is {score}, you go together like coke and mentos.\")\n",
    "if (score >= 40) and (score <= 50):\n",
    "    print(f\"Your score is {score}, you are alright together. \")\n",
    "else:\n",
    "    print(f\"Your score is {score}.\")"
   ]
  },
  {
   "cell_type": "markdown",
   "id": "db5ab543-8a74-4209-8b46-14af01ae4001",
   "metadata": {},
   "source": [
    "# Final Project - Treasure Island Game"
   ]
  },
  {
   "cell_type": "code",
   "execution_count": null,
   "id": "f9f36f6c-31d1-4997-b987-db3f34c5f874",
   "metadata": {},
   "outputs": [
    {
     "name": "stdout",
     "output_type": "stream",
     "text": [
      " _                                     _     _                 _ \n",
      "| |                                   (_)   | |               | |\n",
      "| |_ _ __ ___  __ _ ___ _   _ _ __ ___ _ ___| | __ _ _ __   __| |\n",
      "| __| '__/ _ \\/ _` / __| | | | '__/ _ \\ / __| |/ _` | '_ \\ / _` |\n",
      "| |_| | |  __/ (_| \\__ \\ |_| | | |  __/ \\__ \\ | (_| | | | | (_| |\n",
      " \\__|_|  \\___|\\__,_|___/\\__,_|_|  \\___|_|___/_|\\__,_|_| |_|\\__,_|\n",
      "                                                                 \n",
      "                                                                 \n",
      "Welcome to Treasure Island! \n",
      "Your mission is to find the treasure.\n"
     ]
    }
   ],
   "source": [
    "print(f''' _                                     _     _                 _ \n",
    "| |                                   (_)   | |               | |\n",
    "| |_ _ __ ___  __ _ ___ _   _ _ __ ___ _ ___| | __ _ _ __   __| |\n",
    "| __| '__/ _ \\/ _` / __| | | | '__/ _ \\ / __| |/ _` | '_ \\ / _` |\n",
    "| |_| | |  __/ (_| \\__ \\ |_| | | |  __/ \\__ \\ | (_| | | | | (_| |\n",
    " \\__|_|  \\___|\\__,_|___/\\__,_|_|  \\___|_|___/_|\\__,_|_| |_|\\__,_|\n",
    "                                                                 \n",
    "                                                                 ''')\n",
    "\n",
    "print(f'''Welcome to Treasure Island! \n",
    "Your mission is to find the treasure.''')\n",
    "way = input(\"Where do you want to go? left or right: \").lower()  # Convertendo entrada para minúsculas\n",
    "\n",
    "if way == \"right\" or way != \"left\":\n",
    "    print('''You fall into a hole!\n",
    "    Game Over.''')\n",
    "elif way == \"left\":\n",
    "    lake = input('''You found a lake. \n",
    "    Want to swim or wait? ''').lower()  # Convertendo entrada para minúsculas\n",
    "\n",
    "    if (lake == \"swim\"):\n",
    "        print('''Attacked by trout.\n",
    "    Game Over.''')\n",
    "    elif lake == \"wait\":\n",
    "        door = input('''You survived and found 3 doors.\n",
    "    Which door do you want to open?\n",
    "    Red, Yellow or Blue? ''').lower()  # Convertendo entrada para minúsculas\n",
    "\n",
    "        if door == \"red\":\n",
    "            print(f'''Burned by fire.\n",
    "            Game Over.''')\n",
    "        elif door == \"yellow\":\n",
    "            print(f'''You've found the treasure!!\n",
    "        YOU WIN!!!''')\n",
    "        elif door == \"blue\":\n",
    "            print(f'''Eaten by beasts.\n",
    "        Game Over.''')\n",
    "        else:\n",
    "            print(f'''Invalid option. \n",
    "            Game Over.''')\n",
    "    else:\n",
    "        print(f'''Invalid Option.\n",
    "        Game Over.''')"
   ]
  },
  {
   "cell_type": "code",
   "execution_count": null,
   "id": "02212c5c-cb32-415b-8525-60070ec79a47",
   "metadata": {},
   "outputs": [],
   "source": []
  },
  {
   "cell_type": "code",
   "execution_count": null,
   "id": "34e02d2d-f00e-4d03-badb-ea5a7c434e0a",
   "metadata": {},
   "outputs": [],
   "source": []
  },
  {
   "cell_type": "code",
   "execution_count": null,
   "id": "98d663ea-cc16-472e-82c8-ed99fc009c83",
   "metadata": {},
   "outputs": [],
   "source": []
  },
  {
   "cell_type": "code",
   "execution_count": null,
   "id": "a68f071a-f216-4fd7-9fed-9d5b851fd5bf",
   "metadata": {},
   "outputs": [],
   "source": []
  },
  {
   "cell_type": "code",
   "execution_count": null,
   "id": "0d677216-f44e-4547-a9e5-7d2986e4fd0d",
   "metadata": {},
   "outputs": [],
   "source": []
  },
  {
   "cell_type": "code",
   "execution_count": null,
   "id": "2eeb65c2-c827-4bd9-86b4-8facdbe753ac",
   "metadata": {},
   "outputs": [],
   "source": []
  },
  {
   "cell_type": "code",
   "execution_count": null,
   "id": "cc0b9076-22ca-4aa6-9e44-9d7b69c07c7b",
   "metadata": {},
   "outputs": [],
   "source": []
  },
  {
   "cell_type": "code",
   "execution_count": null,
   "id": "932f2d32-2316-45a4-871d-0694b3abeb95",
   "metadata": {},
   "outputs": [],
   "source": []
  },
  {
   "cell_type": "code",
   "execution_count": null,
   "id": "103253f1-d88e-4949-a558-88a97842dee4",
   "metadata": {},
   "outputs": [],
   "source": []
  },
  {
   "cell_type": "code",
   "execution_count": null,
   "id": "bffe56e6-ddf2-48d8-bdd5-2233324ac7ec",
   "metadata": {},
   "outputs": [],
   "source": []
  }
 ],
 "metadata": {
  "kernelspec": {
   "display_name": "Python 3 (ipykernel)",
   "language": "python",
   "name": "python3"
  },
  "language_info": {
   "codemirror_mode": {
    "name": "ipython",
    "version": 3
   },
   "file_extension": ".py",
   "mimetype": "text/x-python",
   "name": "python",
   "nbconvert_exporter": "python",
   "pygments_lexer": "ipython3",
   "version": "3.11.7"
  }
 },
 "nbformat": 4,
 "nbformat_minor": 5
}
