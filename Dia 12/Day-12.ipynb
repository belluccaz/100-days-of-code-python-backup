{
 "cells": [
  {
   "cell_type": "markdown",
   "metadata": {},
   "source": [
    "# Local Scope\n",
    "1. Variables (or functions) declared inside functions have local scope (also called function scope). \n",
    "2. They are only seen by other code within the same block of code.\n",
    "\n",
    "e.g."
   ]
  },
  {
   "cell_type": "code",
   "execution_count": null,
   "metadata": {},
   "outputs": [],
   "source": [
    "def my_function():\n",
    "    my_local_var = 2\n",
    "    \n",
    "# This will cause a NameErrorr\n",
    "print(my_local_var) \n"
   ]
  },
  {
   "cell_type": "markdown",
   "metadata": {},
   "source": [
    "# Global Scope\n",
    "\n",
    "1. Variables or functions declared at the top level (unindented) of a code file have global scope. \n",
    "2. It is accessible anywhere in the code file.\n",
    "\n",
    "e.g."
   ]
  },
  {
   "cell_type": "code",
   "execution_count": 1,
   "metadata": {},
   "outputs": [],
   "source": [
    "my_global_var = 3\n",
    "\n",
    "def my_function():\n",
    "    # This works no problems\n",
    "    print(my_global_var)"
   ]
  },
  {
   "cell_type": "markdown",
   "metadata": {},
   "source": [
    "# Block Scope\n",
    "\n",
    "1. Python is a bit different from other programming languages in that it does not have block scope.\n",
    "\n",
    "2. This means that variables created nested in other blocks of code.\n",
    " e.g. for loops, if statements, while loops etc. don't get local scope. They are given function scope if they are within a function or global scope if they are not."
   ]
  }
 ],
 "metadata": {
  "kernelspec": {
   "display_name": "venv",
   "language": "python",
   "name": "python3"
  },
  "language_info": {
   "codemirror_mode": {
    "name": "ipython",
    "version": 3
   },
   "file_extension": ".py",
   "mimetype": "text/x-python",
   "name": "python",
   "nbconvert_exporter": "python",
   "pygments_lexer": "ipython3",
   "version": "3.12.5"
  }
 },
 "nbformat": 4,
 "nbformat_minor": 2
}
