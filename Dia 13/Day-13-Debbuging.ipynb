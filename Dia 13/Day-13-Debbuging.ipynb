{
 "cells": [
  {
   "metadata": {},
   "cell_type": "markdown",
   "source": [
    "# Day 13 - Debugging.\n",
    "\n",
    "\n",
    "## 1. Describe the Problem.\n",
    "## 2. Reproduce the Bug.\n",
    "## 3. Play Computer and Evaluate Each Line.\n",
    "## 4. Fixing Errors and Watching for Red Underlines\n",
    "## 5. Squash bugs with a print() Statement\n",
    "## 6. Bringing out the BIG Gun: Using a Debugger.\n",
    "## 7. Final Debugging Tips."
   ],
   "id": "19a994a87e899173"
  }
 ],
 "metadata": {
  "kernelspec": {
   "display_name": "Python 3",
   "language": "python",
   "name": "python3"
  },
  "language_info": {
   "codemirror_mode": {
    "name": "ipython",
    "version": 2
   },
   "file_extension": ".py",
   "mimetype": "text/x-python",
   "name": "python",
   "nbconvert_exporter": "python",
   "pygments_lexer": "ipython2",
   "version": "2.7.6"
  }
 },
 "nbformat": 4,
 "nbformat_minor": 5
}
