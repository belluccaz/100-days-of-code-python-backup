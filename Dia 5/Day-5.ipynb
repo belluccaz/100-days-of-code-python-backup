{
 "cells": [
  {
   "cell_type": "markdown",
   "id": "357bb7d1-af0a-4fbe-89bb-b03cdbf4563a",
   "metadata": {},
   "source": [
    "# Day 5 - Loops, Range and Code Blocks in Python"
   ]
  },
  {
   "cell_type": "markdown",
   "id": "90c70a9d-7326-4448-980e-a6b8aaa2f2e8",
   "metadata": {},
   "source": [
    "## For Loops:"
   ]
  },
  {
   "cell_type": "code",
   "execution_count": null,
   "id": "21487de7-c19c-4341-8ebb-d3ec34c594cc",
   "metadata": {},
   "outputs": [],
   "source": [
    "# for item in list_of_items\n",
    "# do something with each item"
   ]
  },
  {
   "cell_type": "code",
   "execution_count": 1,
   "id": "a2d5242d-aa41-453a-9e1b-b1f3f328c3cf",
   "metadata": {},
   "outputs": [
    {
     "name": "stdin",
     "output_type": "stream",
     "text": [
      "Complete with the student heights 180 165 170 175\n"
     ]
    },
    {
     "name": "stdout",
     "output_type": "stream",
     "text": [
      "total height = 690\n",
      "number of students = 4\n",
      "average height = 172\n"
     ]
    }
   ],
   "source": [
    "student_heights = input(\"Complete with the student heights\").split()\n",
    "for n in range(0, len(student_heights)):\n",
    "  student_heights[n] = int(student_heights[n])\n",
    "\n",
    "total_height = 0\n",
    "for height in student_heights:\n",
    "  total_height += height\n",
    "print(f'total height = {total_height}')\n",
    "\n",
    "number_of_students = 0\n",
    "for student in student_heights:\n",
    "  number_of_students += 1\n",
    "print(f'number of students = {number_of_students}')\n",
    "\n",
    "average_height = round(total_height / number_of_students)\n",
    "print(f'average height = {average_height}')"
   ]
  },
  {
   "cell_type": "markdown",
   "id": "7a0e6910-0d91-4513-9ab9-2208517ab95e",
   "metadata": {},
   "source": []
  },
  {
   "cell_type": "markdown",
   "id": "b49d3aa3-99e1-4c37-ad70-8d66818ab4fe",
   "metadata": {},
   "source": []
  },
  {
   "cell_type": "markdown",
   "id": "80a3fffb-cbb1-4bb6-95b9-7caa2b6cf53c",
   "metadata": {},
   "source": []
  },
  {
   "cell_type": "markdown",
   "id": "08d43851-5034-4d9e-a619-55420d4274ef",
   "metadata": {},
   "source": []
  },
  {
   "cell_type": "markdown",
   "id": "3a686db3-cf98-4d91-b9a5-1d8c027a4b4d",
   "metadata": {},
   "source": []
  },
  {
   "cell_type": "code",
   "execution_count": null,
   "id": "4c6de455-bbbe-4864-9155-9e5819cd652e",
   "metadata": {},
   "outputs": [],
   "source": []
  },
  {
   "cell_type": "code",
   "execution_count": null,
   "id": "3ba043c8-8a48-42fb-8c5a-ec7937bec66b",
   "metadata": {},
   "outputs": [],
   "source": []
  },
  {
   "cell_type": "code",
   "execution_count": null,
   "id": "2461d231-91cc-4daf-8067-3c20a82d7bd4",
   "metadata": {},
   "outputs": [],
   "source": []
  },
  {
   "cell_type": "code",
   "execution_count": null,
   "id": "957e7c51-23a0-4bd2-91b9-2efe4a3ab2f0",
   "metadata": {},
   "outputs": [],
   "source": []
  },
  {
   "cell_type": "code",
   "execution_count": null,
   "id": "bc9db3e4-e0c9-4de9-a562-432ba12ee014",
   "metadata": {},
   "outputs": [],
   "source": []
  },
  {
   "cell_type": "code",
   "execution_count": null,
   "id": "2d504503-f812-411c-baa5-93cd00d2e466",
   "metadata": {},
   "outputs": [],
   "source": []
  },
  {
   "cell_type": "code",
   "execution_count": null,
   "id": "58d7b862-79c9-4095-904e-4f7fa62958eb",
   "metadata": {},
   "outputs": [],
   "source": []
  },
  {
   "cell_type": "code",
   "execution_count": null,
   "id": "e885c23b-84b8-4236-ad87-ffd5c6a024b9",
   "metadata": {},
   "outputs": [],
   "source": []
  },
  {
   "cell_type": "code",
   "execution_count": null,
   "id": "34247eca-4611-47a8-bbd6-7be9d96f4931",
   "metadata": {},
   "outputs": [],
   "source": []
  },
  {
   "cell_type": "code",
   "execution_count": null,
   "id": "2173d5a3-e4a5-4d5e-a219-1ac87e962726",
   "metadata": {},
   "outputs": [],
   "source": []
  },
  {
   "cell_type": "code",
   "execution_count": null,
   "id": "aef0967c-c8aa-4539-8af1-f4bdd8969726",
   "metadata": {},
   "outputs": [],
   "source": []
  },
  {
   "cell_type": "code",
   "execution_count": null,
   "id": "e29013d4-587c-42a9-b476-f3e58c067e77",
   "metadata": {},
   "outputs": [],
   "source": []
  },
  {
   "cell_type": "code",
   "execution_count": null,
   "id": "d28291ae-87d3-40c7-af5c-e4bb283dbcc9",
   "metadata": {},
   "outputs": [],
   "source": []
  },
  {
   "cell_type": "code",
   "execution_count": null,
   "id": "2a501880-0c27-4c57-8ffe-f562d2d2497a",
   "metadata": {},
   "outputs": [],
   "source": []
  },
  {
   "cell_type": "code",
   "execution_count": null,
   "id": "1985a9d9-f7cc-40ca-9f06-5311a86b32cb",
   "metadata": {},
   "outputs": [],
   "source": []
  }
 ],
 "metadata": {
  "kernelspec": {
   "display_name": "Python 3 (ipykernel)",
   "language": "python",
   "name": "python3"
  },
  "language_info": {
   "codemirror_mode": {
    "name": "ipython",
    "version": 3
   },
   "file_extension": ".py",
   "mimetype": "text/x-python",
   "name": "python",
   "nbconvert_exporter": "python",
   "pygments_lexer": "ipython3",
   "version": "3.11.7"
  }
 },
 "nbformat": 4,
 "nbformat_minor": 5
}
