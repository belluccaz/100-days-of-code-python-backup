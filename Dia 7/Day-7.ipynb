{
 "cells": [
  {
   "cell_type": "markdown",
   "id": "b7c7d324-7d03-4111-8b8b-1673a9dc668b",
   "metadata": {},
   "source": [
    "# Day 7 - Hangman Game (while and for loops, if/elif/else conditions, lists:"
   ]
  },
  {
   "cell_type": "markdown",
   "id": "124be85c-8791-4e30-9283-28062afbe48b",
   "metadata": {},
   "source": [
    "## Step 1:"
   ]
  },
  {
   "cell_type": "code",
   "execution_count": null,
   "id": "b5725edd-35d3-454f-8492-9a01b077173e",
   "metadata": {},
   "outputs": [],
   "source": [
    "#Step 1 \n",
    "#TODO-1 - Randomly choose a word from the word_list and assign it to a variable called chosen_word.\n",
    "import random\n",
    "chosen_word = random.choice(word_list)\n",
    "\n",
    "word_list = [\"aardvark\", \"baboon\", \"camel\"]\n",
    "\n",
    "#TODO-2 - Ask the user to guess a letter and assign their answer to a variable called guess. Make guess lowercase.\n",
    "guess = input(\"Guess a letter: \").lower()\n",
    "\n",
    "#TODO-3 - Check if the letter the user guessed (guess) is one of the leters in the chosen_word.\n",
    "for letter in chosen_word:\n",
    "    if letter == guess:\n",
    "        print(\"Right\")\n",
    "    else:\n",
    "        print(\"Wrong\")\n"
   ]
  },
  {
   "cell_type": "markdown",
   "id": "d26758fa-25df-4f4f-851e-d5d955213128",
   "metadata": {},
   "source": [
    "## Step 2:"
   ]
  },
  {
   "cell_type": "code",
   "execution_count": null,
   "id": "6b5f1f62-37af-4ed2-9f8a-1aea3000f10e",
   "metadata": {},
   "outputs": [],
   "source": [
    "#Step 2\n",
    "import random\n",
    "word_list = [\"aardvark\", \"baboon\", \"camel\"]\n",
    "chosen_word = random.choice(word_list)\n",
    "\n",
    "#Testing code\n",
    "print(f'Pssst, the solution is {chosen_word}.')\n",
    "\n",
    "#TODO-1: - Create an empty List called display.\n",
    "#For each letter in the chosen_word, add a \"_\" to 'display'.\n",
    "#So if the chosen_word was \"apple\", display should be [\"_\", \"_\", \"_\", \"_\", \"_\"] with 5 \"_\" representing each letter to guess.\n",
    "display = []\n",
    "word_length = len(chosen_word)\n",
    "for _ in range(word_length):\n",
    "    display += \"_\"\n",
    "\n",
    "guess = input(\"Guess a letter: \").lower()\n",
    "\n",
    "#TODO-2: - Loop through each position in the chosen_word;\n",
    "#If the letter at that position matches 'guess' then reveal that letter in the display at that position.\n",
    "#e.g. If the user guessed \"p\" and the chosen word was \"apple\", then display should be [\"_\", \"p\", \"p\", \"_\", \"_\"].\n",
    "for position in range(word_length):\n",
    "    letter = chosen_word[position]\n",
    "    #print(f\"Current position: {position}\\n Current letter: {letter}\\n Guessed letter: {guess}\")\n",
    "    if letter == guess:\n",
    "        display[position] = letter\n",
    "\n",
    "#TODO-3: - Print 'display' and you should see the guessed letter in the correct position and every other letter replace with \"_\".\n",
    "#Hint - Don't worry about getting the user to guess the next letter. We'll tackle that in step 3.\n",
    "print(display)"
   ]
  },
  {
   "cell_type": "markdown",
   "id": "0a40b4a5-eecd-4801-8079-763ccf224335",
   "metadata": {},
   "source": [
    "## Step 3:"
   ]
  },
  {
   "cell_type": "code",
   "execution_count": null,
   "id": "cbc6232a-7160-468b-8768-a4a5600f133c",
   "metadata": {},
   "outputs": [],
   "source": [
    "#Step 3\n",
    "import random\n",
    "word_list = [\"aardvark\", \"baboon\", \"camel\"]\n",
    "chosen_word = random.choice(word_list)\n",
    "word_length = len(chosen_word)\n",
    "\n",
    "#Testing code\n",
    "print(f'Pssst, the solution is {chosen_word}.')\n",
    "\n",
    "#Create blanks\n",
    "display = []\n",
    "for _ in range(word_length):\n",
    "    display += \"_\"\n",
    "\n",
    "#TODO-1: - Use a while loop to let the user guess again. The loop should only stop once the user has guessed all the letters in the chosen_word and 'display' has no more blanks (\"_\"). Then you can tell the user they've won.\n",
    "\n",
    "end_of_game = False\n",
    "\n",
    "while not end_of_game:\n",
    "  guess = input(\"Guess a letter: \").lower()\n",
    "  \n",
    "  #Check guessed letter\n",
    "  for position in range(word_length):\n",
    "      letter = chosen_word[position]\n",
    "      if letter == guess:\n",
    "          display[position] = letter\n",
    "  \n",
    "  print(display)\n",
    "\n",
    "  if \"_\" not in display:\n",
    "    end_of_game = True\n",
    "    print(\"You win.\")\n",
    "    "
   ]
  },
  {
   "cell_type": "markdown",
   "id": "e8e111e8-243a-4933-8ac5-6176a29fd61b",
   "metadata": {},
   "source": [
    "## Step 4:"
   ]
  },
  {
   "cell_type": "code",
   "execution_count": 1,
   "id": "e44a6cb2-cb4b-47c1-83a8-ca092e9dcef6",
   "metadata": {},
   "outputs": [
    {
     "name": "stdout",
     "output_type": "stream",
     "text": [
      "Pssst, the solution is camel.\n"
     ]
    },
    {
     "name": "stdin",
     "output_type": "stream",
     "text": [
      "Guess a letter:  g\n"
     ]
    },
    {
     "name": "stdout",
     "output_type": "stream",
     "text": [
      "_ _ _ _ _\n",
      "\n",
      "  +---+\n",
      "  |   |\n",
      "  O   |\n",
      "      |\n",
      "      |\n",
      "      |\n",
      "=========\n",
      "\n"
     ]
    },
    {
     "name": "stdin",
     "output_type": "stream",
     "text": [
      "Guess a letter:  a\n"
     ]
    },
    {
     "name": "stdout",
     "output_type": "stream",
     "text": [
      "_ a _ _ _\n",
      "\n",
      "  +---+\n",
      "  |   |\n",
      "  O   |\n",
      "      |\n",
      "      |\n",
      "      |\n",
      "=========\n",
      "\n"
     ]
    },
    {
     "name": "stdin",
     "output_type": "stream",
     "text": [
      "Guess a letter:  c\n"
     ]
    },
    {
     "name": "stdout",
     "output_type": "stream",
     "text": [
      "c a _ _ _\n",
      "\n",
      "  +---+\n",
      "  |   |\n",
      "  O   |\n",
      "      |\n",
      "      |\n",
      "      |\n",
      "=========\n",
      "\n"
     ]
    },
    {
     "name": "stdin",
     "output_type": "stream",
     "text": [
      "Guess a letter:  m\n"
     ]
    },
    {
     "name": "stdout",
     "output_type": "stream",
     "text": [
      "c a m _ _\n",
      "\n",
      "  +---+\n",
      "  |   |\n",
      "  O   |\n",
      "      |\n",
      "      |\n",
      "      |\n",
      "=========\n",
      "\n"
     ]
    },
    {
     "name": "stdin",
     "output_type": "stream",
     "text": [
      "Guess a letter:  h\n"
     ]
    },
    {
     "name": "stdout",
     "output_type": "stream",
     "text": [
      "c a m _ _\n",
      "\n",
      "  +---+\n",
      "  |   |\n",
      "  O   |\n",
      "  |   |\n",
      "      |\n",
      "      |\n",
      "=========\n",
      "\n"
     ]
    },
    {
     "name": "stdin",
     "output_type": "stream",
     "text": [
      "Guess a letter:  l\n"
     ]
    },
    {
     "name": "stdout",
     "output_type": "stream",
     "text": [
      "c a m _ l\n",
      "\n",
      "  +---+\n",
      "  |   |\n",
      "  O   |\n",
      "  |   |\n",
      "      |\n",
      "      |\n",
      "=========\n",
      "\n"
     ]
    },
    {
     "name": "stdin",
     "output_type": "stream",
     "text": [
      "Guess a letter:  e\n"
     ]
    },
    {
     "name": "stdout",
     "output_type": "stream",
     "text": [
      "c a m e l\n",
      "You win.\n",
      "\n",
      "  +---+\n",
      "  |   |\n",
      "  O   |\n",
      "  |   |\n",
      "      |\n",
      "      |\n",
      "=========\n",
      "\n"
     ]
    }
   ],
   "source": [
    "#Step 4\n",
    "import random\n",
    "\n",
    "stages = ['''\n",
    "  +---+\n",
    "  |   |\n",
    "  O   |\n",
    " /|\\  |\n",
    " / \\  |\n",
    "      |\n",
    "=========\n",
    "''', '''\n",
    "  +---+\n",
    "  |   |\n",
    "  O   |\n",
    " /|\\  |\n",
    " /    |\n",
    "      |\n",
    "=========\n",
    "''', '''\n",
    "  +---+\n",
    "  |   |\n",
    "  O   |\n",
    " /|\\  |\n",
    "      |\n",
    "      |\n",
    "=========\n",
    "''', '''\n",
    "  +---+\n",
    "  |   |\n",
    "  O   |\n",
    " /|   |\n",
    "      |\n",
    "      |\n",
    "=========''', '''\n",
    "  +---+\n",
    "  |   |\n",
    "  O   |\n",
    "  |   |\n",
    "      |\n",
    "      |\n",
    "=========\n",
    "''', '''\n",
    "  +---+\n",
    "  |   |\n",
    "  O   |\n",
    "      |\n",
    "      |\n",
    "      |\n",
    "=========\n",
    "''', '''\n",
    "  +---+\n",
    "  |   |\n",
    "      |\n",
    "      |\n",
    "      |\n",
    "      |\n",
    "=========\n",
    "''']\n",
    "\n",
    "end_of_game = False\n",
    "word_list = [\"ardvark\", \"baboon\", \"camel\"]\n",
    "chosen_word = random.choice(word_list)\n",
    "word_length = len(chosen_word)\n",
    "\n",
    "#TODO-1: - Create a variable called 'lives' to keep track of the number of lives left. \n",
    "#Set 'lives' to equal 6.\n",
    "lives = 6\n",
    "\n",
    "#Testing code\n",
    "print(f'Pssst, the solution is {chosen_word}.')\n",
    "\n",
    "#Create blanks\n",
    "display = []\n",
    "for _ in range(word_length):\n",
    "    display += \"_\"\n",
    "\n",
    "while not end_of_game:\n",
    "    guess = input(\"Guess a letter: \").lower()\n",
    "\n",
    "    #Check guessed letter\n",
    "    for position in range(word_length):\n",
    "        letter = chosen_word[position]\n",
    "       # print(f\"Current position: {position}\\n Current letter: {letter}\\n Guessed letter: {guess}\")\n",
    "        if letter == guess:\n",
    "            display[position] = letter\n",
    "\n",
    "    #TODO-2: - If guess is not a letter in the chosen_word,\n",
    "    #Then reduce 'lives' by 1. \n",
    "    #If lives goes down to 0 then the game should stop and it should print \"You lose.\"\n",
    "    if guess not in chosen_word:\n",
    "        lives -= 1\n",
    "        if lives == 0:\n",
    "            end_of_game = True\n",
    "            print(\"You lose.\")\n",
    "\n",
    "    #Join all the elements in the list and turn it into a String.\n",
    "    print(f\"{' '.join(display)}\")\n",
    "\n",
    "    #Check if user has got all letters.\n",
    "    if \"_\" not in display:\n",
    "        end_of_game = True\n",
    "        print(\"You win.\")\n",
    "\n",
    "    #TODO-3: - print the ASCII art.py from 'stages' that corresponds to the current number of 'lives' the user has remaining.\n",
    "    print(stages[lives])"
   ]
  },
  {
   "cell_type": "markdown",
   "id": "fe7a1168-2fcb-437d-99e1-8a85f51a1661",
   "metadata": {},
   "source": [
    "## Step 5:"
   ]
  },
  {
   "cell_type": "code",
   "execution_count": null,
   "id": "fa80e32c-a188-4fd5-af65-2464e38cf0b6",
   "metadata": {},
   "outputs": [],
   "source": [
    "#Step 5\n",
    "import hangman_words\n",
    "import random\n",
    "import hangman_art\n",
    "\n",
    "#TODO-1: - Update the word list to use the 'word_list' from hangman_words.py\n",
    "#Delete this line: word_list = [\"ardvark\", \"baboon\", \"camel\"]\n",
    "chosen_word = random.choice(hangman_words.word_list)\n",
    "word_length = len(chosen_word)\n",
    "\n",
    "end_of_game = False\n",
    "lives = 6\n",
    "\n",
    "#TODO-3: - Import the logo from hangman_art.py and print it at the start of the game.\n",
    "\n",
    "#Testing code\n",
    "print(hangman_art.logo)\n",
    "# print(f'Pssst, the solution is {chosen_word}.')\n",
    "\n",
    "#Create blanks\n",
    "display = []\n",
    "for _ in range(word_length):\n",
    "    display += \"_\"\n",
    "\n",
    "while not end_of_game:\n",
    "    guess = input(\"Guess a letter: \").lower()\n",
    "\n",
    "    #TODO-4: - If the user has entered a letter they've already guessed, print the letter and let them know.\n",
    "\n",
    "    #Check guessed letter\n",
    "    for position in range(word_length):\n",
    "        letter = chosen_word[position]\n",
    "        # print(f\"Current position: {position}\\n Current letter: {letter}\\n Guessed letter: {guess}\")\n",
    "        if letter == guess:\n",
    "            display[position] = letter\n",
    "\n",
    "    #Check if user is wrong.\n",
    "    if guess not in chosen_word:\n",
    "        #TODO-5: - If the letter is not in the chosen_word, print out the letter and let them know it's not in the word.\n",
    "        lives -= 1\n",
    "        if lives == 0:\n",
    "            end_of_game = True\n",
    "            print(f'You lose. The word was {chosen_word}')\n",
    "\n",
    "    #Join all the elements in the list and turn it into a String.\n",
    "    print(f\"{' '.join(display)}\")\n",
    "\n",
    "    #Check if user has got all letters.\n",
    "    if \"_\" not in display:\n",
    "        end_of_game = True\n",
    "        print(\"You win.\")\n",
    "\n",
    "    #TODO-2: - Import the stages from hangman_art.py and make this error go away.\n",
    "    print(hangman_art.stages[lives])"
   ]
  },
  {
   "cell_type": "markdown",
   "id": "0788d650-4b7e-47e6-9676-fc8c15d9c387",
   "metadata": {},
   "source": [
    "## Step 5:"
   ]
  },
  {
   "cell_type": "code",
   "execution_count": 1,
   "id": "591f3d35-5216-4cdb-bb52-affd32ed1c1b",
   "metadata": {},
   "outputs": [
    {
     "ename": "ModuleNotFoundError",
     "evalue": "No module named 'hangman_words'",
     "output_type": "error",
     "traceback": [
      "\u001B[1;31m---------------------------------------------------------------------------\u001B[0m",
      "\u001B[1;31mModuleNotFoundError\u001B[0m                       Traceback (most recent call last)",
      "Cell \u001B[1;32mIn[1], line 7\u001B[0m\n\u001B[0;32m      3\u001B[0m \u001B[38;5;28;01mimport\u001B[39;00m \u001B[38;5;21;01mrandom\u001B[39;00m\n\u001B[0;32m      5\u001B[0m \u001B[38;5;66;03m#TODO-1: - Update the word list to use the 'word_list' from hangman_words.py\u001B[39;00m\n\u001B[0;32m      6\u001B[0m \u001B[38;5;66;03m#Delete this line: word_list = [\"ardvark\", \"baboon\", \"camel\"]\u001B[39;00m\n\u001B[1;32m----> 7\u001B[0m \u001B[38;5;28;01mfrom\u001B[39;00m \u001B[38;5;21;01mhangman_words\u001B[39;00m \u001B[38;5;28;01mimport\u001B[39;00m word_list\n\u001B[0;32m      9\u001B[0m chosen_word \u001B[38;5;241m=\u001B[39m random\u001B[38;5;241m.\u001B[39mchoice(word_list)\n\u001B[0;32m     10\u001B[0m word_length \u001B[38;5;241m=\u001B[39m \u001B[38;5;28mlen\u001B[39m(chosen_word)\n",
      "\u001B[1;31mModuleNotFoundError\u001B[0m: No module named 'hangman_words'"
     ]
    }
   ],
   "source": [
    "#Step 5\n",
    "\n",
    "import random\n",
    "\n",
    "#TODO-1: - Update the word list to use the 'word_list' from hangman_words.py\n",
    "#Delete this line: word_list = [\"ardvark\", \"baboon\", \"camel\"]\n",
    "from hangman_words import word_list\n",
    "\n",
    "chosen_word = random.choice(word_list)\n",
    "word_length = len(chosen_word)\n",
    "\n",
    "end_of_game = False\n",
    "lives = 6\n",
    "\n",
    "#TODO-3: - Import the logo from hangman_art.py and print it at the start of the game.\n",
    "from hangman_art import logo\n",
    "print(logo)\n",
    "\n",
    "#Testing code\n",
    "# print(f'Pssst, the solution is {chosen_word}.')\n",
    "\n",
    "#Create blanks\n",
    "display = []\n",
    "for _ in range(word_length):\n",
    "    display += \"_\"\n",
    "\n",
    "while not end_of_game:\n",
    "    guess = input(\"Guess a letter: \").lower()\n",
    "\n",
    "    #TODO-4: - If the user has entered a letter they've already guessed, print the letter and let them know.\n",
    "    if guess in display:\n",
    "        print(f\"You've already guessed {guess}\")\n",
    "\n",
    "    #Check guessed letter\n",
    "    for position in range(word_length):\n",
    "        letter = chosen_word[position]\n",
    "        #print(f\"Current position: {position}\\n Current letter: {letter}\\n Guessed letter: {guess}\")\n",
    "        if letter == guess:\n",
    "            display[position] = letter\n",
    "\n",
    "    #Check if user is wrong.\n",
    "    if guess not in chosen_word:\n",
    "        #TODO-5: - If the letter is not in the chosen_word, print out the letter and let them know it's not in the word.\n",
    "        print(f\"You guessed {guess}, that's not in the word. You lose a life.\")\n",
    "        \n",
    "        lives -= 1\n",
    "        if lives == 0:\n",
    "            end_of_game = True\n",
    "            print(f'You lose. The word was {chosen_word}')\n",
    "\n",
    "    #Join all the elements in the list and turn it into a String.\n",
    "    print(f\"{' '.join(display)}\")\n",
    "\n",
    "    #Check if user has got all letters.\n",
    "    if \"_\" not in display:\n",
    "        end_of_game = True\n",
    "        print(\"You win.\")\n",
    "\n",
    "    #TODO-2: - Import the stages from hangman_art.py and make this error go away.\n",
    "    from hangman_art import stages\n",
    "    print(stages[lives])"
   ]
  },
  {
   "cell_type": "markdown",
   "id": "248f52d6-5dee-4541-a029-a04498341da6",
   "metadata": {},
   "source": []
  },
  {
   "cell_type": "markdown",
   "id": "66c6ed6f-6307-4fe2-b1a1-87aeb5c50ddd",
   "metadata": {},
   "source": []
  },
  {
   "cell_type": "markdown",
   "id": "58900e7f-b730-41f4-bd26-9a9029e634ef",
   "metadata": {},
   "source": []
  },
  {
   "cell_type": "markdown",
   "id": "912cda84-1fcb-4aaf-b980-622ec852f495",
   "metadata": {},
   "source": []
  },
  {
   "cell_type": "markdown",
   "id": "a52ed48e-06d6-4dd6-ac8e-858c5597e479",
   "metadata": {},
   "source": []
  },
  {
   "cell_type": "markdown",
   "id": "7171fe90-df1c-440e-ba16-932ad5281095",
   "metadata": {},
   "source": []
  },
  {
   "cell_type": "markdown",
   "id": "15da7ef0-6d73-4d32-9763-4d54321c1ce8",
   "metadata": {},
   "source": []
  },
  {
   "cell_type": "markdown",
   "id": "8d6535c9-7476-4c91-bda3-e3cb6d4acf44",
   "metadata": {},
   "source": []
  }
 ],
 "metadata": {
  "kernelspec": {
   "display_name": "Python 3 (ipykernel)",
   "language": "python",
   "name": "python3"
  },
  "language_info": {
   "codemirror_mode": {
    "name": "ipython",
    "version": 3
   },
   "file_extension": ".py",
   "mimetype": "text/x-python",
   "name": "python",
   "nbconvert_exporter": "python",
   "pygments_lexer": "ipython3",
   "version": "3.11.7"
  }
 },
 "nbformat": 4,
 "nbformat_minor": 5
}
