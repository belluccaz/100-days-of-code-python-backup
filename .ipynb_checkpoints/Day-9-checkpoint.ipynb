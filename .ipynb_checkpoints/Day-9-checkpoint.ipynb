{
 "cells": [
  {
   "cell_type": "markdown",
   "id": "eb22a715-c9aa-47f3-aad5-3f7ba3c53795",
   "metadata": {},
   "source": [
    "# Day 9 - Python Dictionaries and Nesting"
   ]
  },
  {
   "cell_type": "markdown",
   "id": "a905c5f1",
   "metadata": {},
   "source": [
    "## Python Dictionaries"
   ]
  },
  {
   "cell_type": "code",
   "execution_count": null,
   "id": "413ca1ff",
   "metadata": {},
   "outputs": [],
   "source": [
    "\n",
    "programming_dictionary = {\n",
    "  \"Bug\": \"An error in a program that prevents the program from running as expected.\", \n",
    "  \"Function\": \"A piece of code that you can easily call over and over again.\",\n",
    "}\n",
    "\n",
    "\n",
    "# print(programming_dictionary[\"Function\"])\n",
    "\n",
    "#Adding new items to dictionary.\n",
    "programming_dictionary[\"Loop\"] = \"The action of doing something over and over again.\"\n",
    "\n",
    "#Create an empty dictionary.\n",
    "empty_dictionary = {}\n",
    "\n",
    "#Wipe an existing dictionary\n",
    "# programming_dictionary = {}\n",
    "# print(programming_dictionary)\n",
    "\n",
    "#Edit an item in a dictionary\n",
    "programming_dictionary[\"Bug\"] = \"A moth in your computer.\"\n",
    "# print(programming_dictionary)\n",
    "\n",
    "#Loop through a dictionary\n",
    "# for key in programming_dictionary:\n",
    "#   print(key)\n",
    "#   print(programming_dictionary[key])\n",
    "\n",
    "#######################################\n",
    "\n",
    "#Nesting \n",
    "capitals = {\n",
    "  \"France\": \"Paris\",\n",
    "  \"Germany\": \"Berlin\",\n",
    "}\n",
    "\n",
    "#Nesting a List in a Dictionary\n",
    "\n",
    "travel_log = {\n",
    "  \"France\": [\"Paris\", \"Lille\", \"Dijon\"],\n",
    "  \"Germany\": [\"Berlin\", \"Hamburg\", \"Stuttgart\"],\n",
    "}\n",
    "\n",
    "#Nesting Dictionary in a Dictionary\n",
    "\n",
    "travel_log = {\n",
    "  \"France\": {\"cities_visited\": [\"Paris\", \"Lille\", \"Dijon\"], \"total_visits\": 12},\n",
    "  \"Germany\": {\"cities_visited\": [\"Berlin\", \"Hamburg\", \"Stuttgart\"], \"total_visits\": 5},\n",
    "}\n",
    "\n",
    "#Nesting Dictionaries in Lists\n",
    "\n",
    "travel_log = [\n",
    "{\n",
    "  \"country\": \"France\", \n",
    "  \"cities_visited\": [\"Paris\", \"Lille\", \"Dijon\"], \n",
    "  \"total_visits\": 12,\n",
    "},\n",
    "{\n",
    "  \"country\": \"Germany\",\n",
    "  \"cities_visited\": [\"Berlin\", \"Hamburg\", \"Stuttgart\"],\n",
    "  \"total_visits\": 5,\n",
    "},\n",
    "]"
   ]
  },
  {
   "cell_type": "markdown",
   "id": "f21e7570-0ca1-485e-a31f-2b5ce0bbc6a0",
   "metadata": {},
   "source": [
    "## ICE 23 - Dictionaries"
   ]
  },
  {
   "cell_type": "code",
   "execution_count": null,
   "id": "8442f3d4-9200-4d47-a891-2c524adc4952",
   "metadata": {},
   "outputs": [],
   "source": [
    "country = input() # Add country name\n",
    "visits = int(input()) # Number of visits\n",
    "list_of_cities = eval(input()) # create list from formatted string\n",
    "\n",
    "travel_log = [\n",
    "  {\n",
    "    \"country\": \"France\",\n",
    "    \"visits\": 12,\n",
    "    \"cities\": [\"Paris\", \"Lille\", \"Dijon\"]\n",
    "  },\n",
    "  {\n",
    "    \"country\": \"Germany\",\n",
    "    \"visits\": 5,\n",
    "    \"cities\": [\"Berlin\", \"Hamburg\", \"Stuttgart\"]\n",
    "  },\n",
    "]\n",
    "# Do NOT change the code above 👆\n",
    "\n",
    "# TODO: Write the function that will allow new countries\n",
    "# to be added to the travel_log. \n",
    "\n",
    "\n",
    "# Do not change the code below 👇\n",
    "def add_new_country(name, times_visited, cities_visited):\n",
    "  new_country = {}\n",
    "  new_country[\"country\"] = name\n",
    "  new_country[\"visits\"] = times_visited\n",
    "  new_country[\"cities\"] = cities_visited\n",
    "  travel_log.append(new_country)\n",
    "  \n",
    "add_new_country(country, visits, list_of_cities)\n",
    "print(f\"I've been to {travel_log[2]['country']} {travel_log[2]['visits']} times.\")\n",
    "print(f\"My favourite city was {travel_log[2]['cities'][0]}.\")"
   ]
  },
  {
   "cell_type": "markdown",
   "id": "87b8665a-9be4-45e1-adea-cc163eaaf434",
   "metadata": {},
   "source": []
  },
  {
   "cell_type": "markdown",
   "id": "fb5cb16f-b18f-4230-ac44-f37df9571f37",
   "metadata": {},
   "source": []
  },
  {
   "cell_type": "markdown",
   "id": "aaadeb72-26c0-4552-8bf1-d2bde5ac73f5",
   "metadata": {},
   "source": []
  },
  {
   "cell_type": "markdown",
   "id": "aa8076b2-e930-4d4f-b848-43ff7b53cc3d",
   "metadata": {},
   "source": []
  },
  {
   "cell_type": "code",
   "execution_count": null,
   "id": "4690026a-2602-45e3-a3d5-f09845dea2dc",
   "metadata": {},
   "outputs": [],
   "source": []
  },
  {
   "cell_type": "code",
   "execution_count": null,
   "id": "c8387449-054e-4ff6-b4e5-5eca3161037e",
   "metadata": {},
   "outputs": [],
   "source": []
  },
  {
   "cell_type": "code",
   "execution_count": null,
   "id": "ce9580bf-43cc-41d9-ac36-62b8bae4f2b8",
   "metadata": {},
   "outputs": [],
   "source": []
  },
  {
   "cell_type": "code",
   "execution_count": null,
   "id": "e3a26950-aed5-4192-a5ec-f87678fe3297",
   "metadata": {},
   "outputs": [],
   "source": []
  },
  {
   "cell_type": "code",
   "execution_count": null,
   "id": "1f577e7d-80a3-46ba-b765-494fad469d14",
   "metadata": {},
   "outputs": [],
   "source": []
  },
  {
   "cell_type": "code",
   "execution_count": null,
   "id": "ddef6285-0466-4778-b28f-d6f747e8e4d9",
   "metadata": {},
   "outputs": [],
   "source": []
  },
  {
   "cell_type": "code",
   "execution_count": null,
   "id": "30636179-f7b9-4764-8b0b-ce7238aec2b5",
   "metadata": {},
   "outputs": [],
   "source": []
  },
  {
   "cell_type": "code",
   "execution_count": null,
   "id": "4a4ddb8a-47b3-4b16-bb10-4f3ad53484d6",
   "metadata": {},
   "outputs": [],
   "source": []
  },
  {
   "cell_type": "code",
   "execution_count": null,
   "id": "78283504-b0ab-4951-81f5-17994b4b47ac",
   "metadata": {},
   "outputs": [],
   "source": []
  },
  {
   "cell_type": "code",
   "execution_count": null,
   "id": "92a27f14-0c02-4105-baab-339123d22eca",
   "metadata": {},
   "outputs": [],
   "source": []
  },
  {
   "cell_type": "code",
   "execution_count": null,
   "id": "bc3c39df-ae29-4558-a5cf-633551cd088d",
   "metadata": {},
   "outputs": [],
   "source": []
  },
  {
   "cell_type": "code",
   "execution_count": null,
   "id": "b85e29d1-8fe5-40f5-9323-528dd364864b",
   "metadata": {},
   "outputs": [],
   "source": []
  },
  {
   "cell_type": "code",
   "execution_count": null,
   "id": "f384a933-b9db-4687-8c93-0381f7b5df89",
   "metadata": {},
   "outputs": [],
   "source": []
  },
  {
   "cell_type": "code",
   "execution_count": null,
   "id": "f22aee63-4e88-41f6-9491-cf9ec122c868",
   "metadata": {},
   "outputs": [],
   "source": []
  },
  {
   "cell_type": "code",
   "execution_count": null,
   "id": "eb3a2eda-958a-49eb-ba26-ebcb1ddd7414",
   "metadata": {},
   "outputs": [],
   "source": []
  },
  {
   "cell_type": "code",
   "execution_count": null,
   "id": "acc69237-c411-46b4-9312-0b58ede6870d",
   "metadata": {},
   "outputs": [],
   "source": []
  }
 ],
 "metadata": {
  "kernelspec": {
   "display_name": "Python 3 (ipykernel)",
   "language": "python",
   "name": "python3"
  },
  "language_info": {
   "codemirror_mode": {
    "name": "ipython",
    "version": 3
   },
   "file_extension": ".py",
   "mimetype": "text/x-python",
   "name": "python",
   "nbconvert_exporter": "python",
   "pygments_lexer": "ipython3",
   "version": "3.12.3"
  }
 },
 "nbformat": 4,
 "nbformat_minor": 5
}
