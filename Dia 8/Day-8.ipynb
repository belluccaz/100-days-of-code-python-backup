{
 "cells": [
  {
   "cell_type": "markdown",
   "id": "d0f1ea21-4b23-4300-9df3-962725327fdd",
   "metadata": {},
   "source": [
    "# Day 8 - Function Parameters"
   ]
  },
  {
   "cell_type": "markdown",
   "id": "e8198d64-0645-4c24-97d2-13470c89887e",
   "metadata": {},
   "source": [
    "## Function with inputs:"
   ]
  },
  {
   "cell_type": "code",
   "execution_count": null,
   "id": "d86273f1-f525-4851-8efe-a49eb7495bb3",
   "metadata": {},
   "outputs": [],
   "source": [
    "# Review: \n",
    "# Create a function called greet(). \n",
    "# Write 3 print statements inside the function.\n",
    "# Call the greet() function and run your code.\n",
    "\n",
    "# def greet():\n",
    "#   print(\"Hello\")\n",
    "#   print(\"How are you?\")\n",
    "#   print(\"Isn't the weather nice today?\")\n",
    "\n",
    "# greet()\n",
    "\n",
    "# Function that allows for input\n",
    "\n",
    "def greet_with_name(name):\n",
    "  print(f\"Hello {name}\")\n",
    "  print(f\"How are you {name}?\")\n",
    "  print(f\"Isn't the weather nice today {name}?\")\n",
    "\n",
    "greet_with_name(\"Angela\")"
   ]
  },
  {
   "cell_type": "markdown",
   "id": "732c686b-ce75-424e-87fb-9608e4e9ac07",
   "metadata": {},
   "source": [
    "## Parameters and Arguments:\n",
    "\n",
    "* Positional Arguments;\n",
    "* Keyword Arguments."
   ]
  },
  {
   "cell_type": "code",
   "execution_count": null,
   "id": "bbb98a7f-86e8-438b-9ec2-6ca98159f2f2",
   "metadata": {},
   "outputs": [],
   "source": [
    "# #Simple Function\n",
    "# def greet():\n",
    "#   print(\"Hello Angela\")\n",
    "#   print(\"How do you do Jack Bauer?\")\n",
    "#   print(\"Isn't the weather nice today?\")\n",
    "# greet()\n",
    "\n",
    "# #Function that allows for input\n",
    "# #'name' is the parameter.\n",
    "# #'Jack Bauer' is the argument.\n",
    "# def greet_with_name(name):\n",
    "#   print(f\"Hello {name}\")\n",
    "#   print(f\"How do you do {name}?\")\n",
    "# greet_with_name(\"Jack Bauer\")\n",
    "\n",
    "#Functions with more than 1 input\n",
    "def greet_with(name, location):\n",
    "  print(f\"Hello {name}\")\n",
    "  print(f\"What is it like in {location}?\")\n",
    "\n",
    "#Calling greet_with() with Positional Arguments\n",
    "# greet_with(\"Jack Bauer\", \"Nowhere\")\n",
    "# #vs.\n",
    "# greet_with(\"Nowhere\", \"Jack Bauer\")\n",
    "\n",
    "\n",
    "#Calling greet_with() with Keyword Arguments\n",
    "greet_with(location=\"Nowhere\", \n",
    "           name=\"Jack Bauer\")"
   ]
  },
  {
   "cell_type": "markdown",
   "id": "1e464b75-d4b9-47cb-b792-5ff15de7eff3",
   "metadata": {},
   "source": [
    "### ICE (Interactive Coding Exercise):\n",
    "\n",
    "* Escrever uma função que calcule a quantidade de latas de tinta necessárias para pintar uma parede, levando em consideração sua largura, altura e capacidade de cobertura da lata."
   ]
  },
  {
   "cell_type": "code",
   "execution_count": null,
   "id": "61258139-7b55-4d41-8599-5529393a8278",
   "metadata": {},
   "outputs": [],
   "source": [
    "import math\n",
    "# Write your code below this line 👇\n",
    "def paint_calc(height, \n",
    "               width,\n",
    "               cover):\n",
    "  num_cans = (height * width) / cover\n",
    "  round_up_cans = math.ceil(num_cans)\n",
    "  \n",
    "  print(f\"You'll need {round_up_cans} cans of paint.\")\n",
    "\n",
    "\n",
    "\n",
    "# Write your code above this line 👆\n",
    "# Define a function called paint_calc() so the code below works.   \n",
    "\n",
    "# 🚨 Don't change the code below 👇\n",
    "test_h = int(input()) # Height of wall (m)\n",
    "test_w = int(input()) # Width of wall (m)\n",
    "coverage = 5\n",
    "paint_calc(height=test_h, width=test_w, cover=coverage)"
   ]
  },
  {
   "cell_type": "markdown",
   "id": "40c8e5f7-7b3e-4d6b-b720-ef6c9b0d08e2",
   "metadata": {},
   "source": [
    "## Cipher Text Exercise; "
   ]
  },
  {
   "cell_type": "markdown",
   "id": "11c9c2cb-211c-4420-9786-b56e662f53c7",
   "metadata": {},
   "source": [
    "## Encode:"
   ]
  },
  {
   "cell_type": "code",
   "execution_count": null,
   "id": "66d12bf9-4f66-4343-8173-ade990387b84",
   "metadata": {},
   "outputs": [],
   "source": [
    "alphabet = ['a', 'b', 'c', 'd', 'e', 'f', 'g', 'h', 'i', 'j', 'k', 'l', 'm', 'n', 'o',\n",
    "            'p', 'q', 'r', 's', 't', 'u', 'v', 'w', 'x', 'y', 'z', 'a', 'b', 'c', 'd', \n",
    "            'e', 'f', 'g', 'h', 'i', 'j', 'k', 'l', 'm', 'n', 'o', 'p', 'q', 'r', 's', \n",
    "            't', 'u', 'v', 'w', 'x', 'y', 'z']\n",
    "\n",
    "direction = input(\"Type 'encode' to encrypt, type 'decode' to decrypt:\\n\")\n",
    "text = input(\"Type your message:\\n\").lower()\n",
    "shift = int(input(\"Type the shift number:\\n\"))\n",
    "\n",
    "#Don't change the code above 👆\n",
    "\n",
    "#TODO-1: Create a function called 'encrypt' that takes the 'text' and 'shift' as inputs.\n",
    "def encrypt(plain_text, shift_amount):\n",
    "  #TODO-2: Inside the encrypt function, shift each letter of the text forwards in the alphabet by the shift amount and print the encrypted text.  \n",
    "  #e.g. \n",
    "  #plain_text = \"hello\"\n",
    "  #shift = 5\n",
    "  #cipher_text = \"mjqqt\"\n",
    "  #print output: \"The encoded text is mjqqt\"\n",
    "  cipher_text = \"\"\n",
    "  for letter in plain_text:\n",
    "    position = alphabet.index(letter)\n",
    "    new_position = position + shift_amount\n",
    "    new_letter = alphabet[new_position]\n",
    "    cipher_text += new_letter\n",
    "  print(f\"The encoded text is {cipher_text}\")\n",
    "\n",
    "#TODO-3: Call the encrypt function and pass in the user inputs. You should be able to test the code and encrypt a message. \n",
    "encrypt(plain_text=text, shift_amount=shift)"
   ]
  },
  {
   "cell_type": "markdown",
   "id": "6844f236-6d4c-4671-befc-8a9ee5c05aa0",
   "metadata": {},
   "source": [
    "## Decode:"
   ]
  },
  {
   "cell_type": "code",
   "execution_count": null,
   "id": "b1465f1c-c594-4e59-b446-0ef504b6a88f",
   "metadata": {},
   "outputs": [],
   "source": [
    "alphabet = ['a', 'b', 'c', 'd', 'e', 'f', 'g', 'h', 'i', 'j', 'k', 'l', 'm', 'n', 'o', 'p', 'q', 'r', 's', 't', 'u', 'v', 'w', 'x', 'y', 'z', 'a', 'b', 'c', 'd', 'e', 'f', 'g', 'h', 'i', 'j', 'k', 'l', 'm', 'n', 'o', 'p', 'q', 'r', 's', 't', 'u', 'v', 'w', 'x', 'y', 'z']\n",
    "\n",
    "direction = input(\"Type 'encode' to encrypt, type 'decode' to decrypt:\\n\")\n",
    "text = input(\"Type your message:\\n\").lower()\n",
    "shift = int(input(\"Type the shift number:\\n\"))\n",
    "\n",
    "def encrypt(plain_text, shift_amount):\n",
    "  cipher_text = \"\"\n",
    "  for letter in plain_text:\n",
    "    position = alphabet.index(letter)\n",
    "    new_position = position + shift_amount\n",
    "    cipher_text += alphabet[new_position]\n",
    "  print(f\"The encoded text is {cipher_text}\")\n",
    "\n",
    "#TODO-1: Create a different function called 'decrypt' that takes the 'text' and 'shift' as inputs.\n",
    "def decrypt(cipher_text, shift_amount):\n",
    "  #TODO-2: Inside the 'decrypt' function, shift each letter of the 'text' *backwards* in the alphabet by the shift amount and print the decrypted text.  \n",
    "  #e.g. \n",
    "  #cipher_text = \"mjqqt\"\n",
    "  #shift = 5\n",
    "  #plain_text = \"hello\"\n",
    "  #print output: \"The decoded text is hello\"\n",
    "  plain_text = \"\"\n",
    "  for letter in cipher_text:\n",
    "    position = alphabet.index(letter)\n",
    "    new_position = position - shift_amount\n",
    "    plain_text += alphabet[new_position]\n",
    "\n",
    "  print(f\"The decoded text is {plain_text}\")\n",
    "\n",
    "#TODO-3: Check if the user wanted to encrypt or decrypt the message by checking the 'direction' variable. Then call the correct function based on that 'drection' variable. You should be able to test the code to encrypt *AND* decrypt a message.\n",
    "if direction == \"encode\":\n",
    "  encrypt(plain_text=text, shift_amount=shift)\n",
    "\n",
    "elif direction == \"decode\":\n",
    "  decrypt(cipher_text=text, shift_amount=shift)"
   ]
  },
  {
   "cell_type": "markdown",
   "id": "b33acace-1188-49d7-9d14-084ab6c45468",
   "metadata": {},
   "source": [
    "# User Experience(UX) and Final Touches:"
   ]
  },
  {
   "cell_type": "code",
   "execution_count": null,
   "id": "fe4e8108-b794-482d-bc74-0a7f590d6b8f",
   "metadata": {},
   "outputs": [],
   "source": [
    "from art import logo\n",
    "print(logo)\n",
    "\n",
    "alphabet = ['a', 'b', 'c', 'd', 'e', 'f', 'g', 'h', 'i', 'j', 'k', 'l', 'm', 'n', 'o', 'p', 'q', 'r', 's', 't', 'u', 'v', 'w', 'x', 'y', 'z', 'a', 'b', 'c', 'd', 'e', 'f', 'g', 'h', 'i', 'j', 'k', 'l', 'm', 'n', 'o', 'p', 'q', 'r', 's', 't', 'u', 'v', 'w', 'x', 'y', 'z']\n",
    "\n",
    "def caesar(start_text, shift_amount, cipher_direction):\n",
    "  end_text = \"\"\n",
    "  if cipher_direction == \"decode\":\n",
    "    shift_amount *= -1\n",
    "  for char in start_text:\n",
    "    if char in alphabet:\n",
    "      position = alphabet.index(char)\n",
    "      new_position = position + shift_amount\n",
    "      end_text += alphabet[new_position]\n",
    "    else:\n",
    "      end_text += char\n",
    "  print(f\"Here's the {cipher_direction}d result: {end_text}\")\n",
    "\n",
    "#TODO-1: Import and print the logo from art.py when the program starts.\n",
    "\n",
    "\n",
    "#TODO-4: Can you figure out a way to ask the user if they want to restart the cipher program?\n",
    "#e.g. Type 'yes' if you want to go again. Otherwise type 'no'.\n",
    "#If they type 'yes' then ask them for the direction/text/shift again and call the caesar() function again?\n",
    "#Hint: Try creating a while loop that continues to execute the program if the user types 'yes'.\n",
    "should_end = False\n",
    "while not should_end:\n",
    "\n",
    "  direction = input(\"Type 'encode' to encrypt, type 'decode' to decrypt:\\n\")\n",
    "  text = input(\"Type your message:\\n\").lower()\n",
    "  shift = int(input(\"Type the shift number:\\n\"))\n",
    "  #TODO-2: What if the user enters a shift that is greater than the number of letters in the alphabet?\n",
    "  #Try running the program and entering a shift number of 45.\n",
    "  #Add some code so that the program continues to work even if the user enters a shift number greater than 26. \n",
    "  #Hint: Think about how you can use the modulus (%).\n",
    "  shift = shift % 26\n",
    "\n",
    "  caesar(start_text=text, shift_amount=shift, cipher_direction=direction)\n",
    "\n",
    "  restart = input(\"Type 'yes' if you want to go again. Otherwise type 'no'.\\n\")\n",
    "  if restart == \"no\":\n",
    "    should_end = True\n",
    "    print(\"Goodbye\")\n",
    "\n",
    "\n",
    "\n"
   ]
  },
  {
   "cell_type": "code",
   "execution_count": null,
   "id": "f63ad753-142f-4856-92a5-c927e014eff9",
   "metadata": {},
   "outputs": [],
   "source": []
  },
  {
   "cell_type": "code",
   "execution_count": null,
   "id": "70af3fa1-f2c3-4006-9481-7e1bdf80a628",
   "metadata": {},
   "outputs": [],
   "source": []
  },
  {
   "cell_type": "code",
   "execution_count": null,
   "id": "2f3cf9c0-8e83-4eea-bbf2-b552bb1748f7",
   "metadata": {},
   "outputs": [],
   "source": []
  },
  {
   "cell_type": "code",
   "execution_count": null,
   "id": "59bb83cc-9f82-41b3-ad57-1bab9958a52a",
   "metadata": {},
   "outputs": [],
   "source": []
  },
  {
   "cell_type": "code",
   "execution_count": null,
   "id": "ec89f383-894a-4165-8f91-43b19a6cc8ed",
   "metadata": {},
   "outputs": [],
   "source": []
  },
  {
   "cell_type": "code",
   "execution_count": null,
   "id": "c3fb79ba-84d6-47a6-b01d-d6505fc235f6",
   "metadata": {},
   "outputs": [],
   "source": []
  },
  {
   "cell_type": "code",
   "execution_count": null,
   "id": "7edfe24f-98dd-4272-b6a6-000cbbc4c740",
   "metadata": {},
   "outputs": [],
   "source": []
  },
  {
   "cell_type": "code",
   "execution_count": null,
   "id": "4137f1d7-e5b0-47cf-89a9-7ee2a86147da",
   "metadata": {},
   "outputs": [],
   "source": []
  },
  {
   "cell_type": "code",
   "execution_count": null,
   "id": "27abeec7-7f89-491a-a785-d8158acda26a",
   "metadata": {},
   "outputs": [],
   "source": []
  }
 ],
 "metadata": {
  "kernelspec": {
   "display_name": "Python 3 (ipykernel)",
   "language": "python",
   "name": "python3"
  },
  "language_info": {
   "codemirror_mode": {
    "name": "ipython",
    "version": 3
   },
   "file_extension": ".py",
   "mimetype": "text/x-python",
   "name": "python",
   "nbconvert_exporter": "python",
   "pygments_lexer": "ipython3",
   "version": "3.11.7"
  }
 },
 "nbformat": 4,
 "nbformat_minor": 5
}
