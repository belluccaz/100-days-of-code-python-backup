{
 "cells": [
  {
   "cell_type": "markdown",
   "id": "45910e19",
   "metadata": {},
   "source": [
    "# Day 10 - Calculator"
   ]
  },
  {
   "cell_type": "markdown",
   "id": "ea391d35",
   "metadata": {},
   "source": [
    "## Functions With Outputs"
   ]
  },
  {
   "cell_type": "code",
   "execution_count": 3,
   "id": "b648d154",
   "metadata": {},
   "outputs": [
    {
     "name": "stdout",
     "output_type": "stream",
     "text": [
      "Lucas\n",
      "Bellzinho\n"
     ]
    }
   ],
   "source": [
    "def format_name(f_name, l_name): #cria a função e 2 parametros 'variaveis' dentro da mesma, utiliza o metodo .title\n",
    "    print(f_name.title())\n",
    "    print(l_name.title())\n",
    "    \n",
    "format_name(\"Lucas\", \"beLlzInhO\")"
   ]
  },
  {
   "cell_type": "markdown",
   "id": "f963a8d2",
   "metadata": {},
   "source": [
    "## Multiple return values"
   ]
  },
  {
   "cell_type": "code",
   "execution_count": null,
   "id": "d7216942",
   "metadata": {
    "vscode": {
     "languageId": "plaintext"
    }
   },
   "outputs": [],
   "source": [
    "#Functions with Outputs\n",
    "def format_name(f_name, l_name):\n",
    "  if f_name == \"\" or l_name == \"\":\n",
    "    return \"You didn't provide valid inputs.\"\n",
    "  formated_f_name = f_name.title()\n",
    "  formated_l_name = l_name.title()\n",
    "  f\"Result: {formated_f_name} {formated_l_name}\"\n",
    "\n",
    "#Storing output in a variable\n",
    "formated_name = format_name(input(\"Your first name: \"), input(\"Your last name: \"))\n",
    "print(formatted_name)\n",
    "#or printing output directly\n",
    "print(format_name(input(\"What is your first name? \"), input(\"What is your last name? \")))\n",
    "\n",
    "#Already used functions with outputs.\n",
    "length = len(formatted_name)\n",
    "\n",
    "#Return as an early exit\n",
    "def format_name(f_name, l_name):\n",
    "  \"\"\"Take a first and last name and format it \n",
    "  to return the title case version of the name.\"\"\"\n",
    "  if f_name == \"\" or l_name == \"\":\n",
    "    return \"You didn't provide valid inputs.\"\n",
    "  formated_f_name = f_name.title()\n",
    "  formated_l_name = l_name.title()\n",
    "  return f\"Result: {formated_f_name} {formated_l_name}\"\n",
    "\n",
    "\n"
   ]
  },
  {
   "cell_type": "markdown",
   "id": "2e494704",
   "metadata": {},
   "source": [
    "## Docstrings"
   ]
  },
  {
   "cell_type": "code",
   "execution_count": null,
   "id": "5b8b9dad",
   "metadata": {},
   "outputs": [],
   "source": []
  },
  {
   "cell_type": "markdown",
   "id": "956ec1a5",
   "metadata": {},
   "source": [
    "## Combining Dictionaries and Functions"
   ]
  },
  {
   "cell_type": "code",
   "execution_count": null,
   "id": "d601caad",
   "metadata": {},
   "outputs": [],
   "source": []
  },
  {
   "cell_type": "markdown",
   "id": "5e8e43b0",
   "metadata": {},
   "source": [
    "## Print vs. Return"
   ]
  },
  {
   "cell_type": "code",
   "execution_count": null,
   "id": "d694b7f3",
   "metadata": {},
   "outputs": [],
   "source": []
  },
  {
   "cell_type": "markdown",
   "id": "aab54392",
   "metadata": {},
   "source": [
    "## While Loops, Flags and Recursion"
   ]
  },
  {
   "cell_type": "code",
   "execution_count": null,
   "id": "62d6cfd0",
   "metadata": {},
   "outputs": [],
   "source": []
  },
  {
   "cell_type": "code",
   "execution_count": null,
   "id": "0b1a708b",
   "metadata": {},
   "outputs": [],
   "source": []
  },
  {
   "cell_type": "code",
   "execution_count": null,
   "id": "2140b04f",
   "metadata": {},
   "outputs": [],
   "source": []
  },
  {
   "cell_type": "code",
   "execution_count": null,
   "id": "3f754214",
   "metadata": {},
   "outputs": [],
   "source": []
  },
  {
   "cell_type": "code",
   "execution_count": null,
   "id": "7f5bc66d",
   "metadata": {},
   "outputs": [],
   "source": []
  },
  {
   "cell_type": "code",
   "execution_count": null,
   "id": "5fd306fa",
   "metadata": {},
   "outputs": [],
   "source": []
  },
  {
   "cell_type": "code",
   "execution_count": null,
   "id": "0c0c76f8",
   "metadata": {},
   "outputs": [],
   "source": []
  },
  {
   "cell_type": "code",
   "execution_count": null,
   "id": "aba3fc08",
   "metadata": {},
   "outputs": [],
   "source": []
  },
  {
   "cell_type": "code",
   "execution_count": null,
   "id": "acd35398",
   "metadata": {},
   "outputs": [],
   "source": []
  },
  {
   "cell_type": "code",
   "execution_count": null,
   "id": "7e215d97",
   "metadata": {},
   "outputs": [],
   "source": []
  },
  {
   "cell_type": "code",
   "execution_count": null,
   "id": "ece2a222",
   "metadata": {},
   "outputs": [],
   "source": []
  },
  {
   "cell_type": "code",
   "execution_count": null,
   "id": "67c1c023",
   "metadata": {},
   "outputs": [],
   "source": []
  },
  {
   "cell_type": "code",
   "execution_count": null,
   "id": "f796cced",
   "metadata": {},
   "outputs": [],
   "source": []
  },
  {
   "cell_type": "code",
   "execution_count": null,
   "id": "73580b5a",
   "metadata": {},
   "outputs": [],
   "source": []
  },
  {
   "cell_type": "code",
   "execution_count": null,
   "id": "ea15fee8",
   "metadata": {},
   "outputs": [],
   "source": []
  },
  {
   "cell_type": "code",
   "execution_count": null,
   "id": "657e7525",
   "metadata": {},
   "outputs": [],
   "source": []
  },
  {
   "cell_type": "code",
   "execution_count": null,
   "id": "57f50284",
   "metadata": {},
   "outputs": [],
   "source": []
  },
  {
   "cell_type": "code",
   "execution_count": null,
   "id": "7717e72a",
   "metadata": {},
   "outputs": [],
   "source": []
  }
 ],
 "metadata": {
  "kernelspec": {
   "display_name": "Python 3 (ipykernel)",
   "language": "python",
   "name": "python3"
  },
  "language_info": {
   "codemirror_mode": {
    "name": "ipython",
    "version": 3
   },
   "file_extension": ".py",
   "mimetype": "text/x-python",
   "name": "python",
   "nbconvert_exporter": "python",
   "pygments_lexer": "ipython3",
   "version": "3.12.3"
  }
 },
 "nbformat": 4,
 "nbformat_minor": 5
}
