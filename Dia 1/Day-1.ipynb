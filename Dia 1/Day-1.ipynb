{
 "cells": [
  {
   "cell_type": "markdown",
   "id": "d4ac7512-032d-4194-84ca-5971cd1a7c2c",
   "metadata": {},
   "source": [
    "# Day 1 - Commenting, Printing, Debbuging, String Manipulation and Variables.\n",
    "\n",
    "* Conceitos iniciais\n",
    "* Fontes de pesquisa e documentação básica"
   ]
  },
  {
   "cell_type": "markdown",
   "id": "79a33f60-a002-41dc-ab0f-8a16194abcdf",
   "metadata": {},
   "source": [
    "## Working with variables in Python to Manage Data"
   ]
  },
  {
   "cell_type": "markdown",
   "id": "0a0d99ea-3fee-4af8-9263-fb25ddf76dee",
   "metadata": {},
   "source": [
    "* print(\"content\") <- function - imprimir (apresentar) algo (dados) ao usuário."
   ]
  },
  {
   "cell_type": "markdown",
   "id": "1c6509d3-dfc6-47f0-92e9-4c163e3ca93d",
   "metadata": {},
   "source": [
    "## Exercise:\n",
    "\n",
    "* Desenvolver um \"gerador de nomes de banda\" com Python."
   ]
  },
  {
   "cell_type": "markdown",
   "id": "606b45c8-bac0-499d-808e-217fb632003f",
   "metadata": {},
   "source": [
    "### Perguntar ao usuário o nome de sua cidade natal:"
   ]
  },
  {
   "cell_type": "code",
   "execution_count": 1,
   "id": "dcd65303-c95f-4573-a1fc-107437c3d6c4",
   "metadata": {},
   "outputs": [
    {
     "name": "stdin",
     "output_type": "stream",
     "text": [
      "What's your hometoun?  SCS\n"
     ]
    }
   ],
   "source": [
    "hometown = input(\"What's your hometoun? \\n\")"
   ]
  },
  {
   "cell_type": "markdown",
   "id": "ae0f43c6-9522-463f-9bc3-146d491083a0",
   "metadata": {},
   "source": [
    "### Perguntar ao usuário qual a sua comida favorita:"
   ]
  },
  {
   "cell_type": "code",
   "execution_count": 2,
   "id": "de67d808-1050-4828-9c4d-8622559bf54a",
   "metadata": {},
   "outputs": [
    {
     "name": "stdin",
     "output_type": "stream",
     "text": [
      "What's your favorite food?  Pizza\n"
     ]
    }
   ],
   "source": [
    "favorite_food = input(\"What's your favorite food? \\n\")"
   ]
  },
  {
   "cell_type": "markdown",
   "id": "dd462d33-2d9c-41d1-9429-e392f0c93c13",
   "metadata": {},
   "source": [
    "## Combining Strings (Concatenation):\n",
    "\n",
    "* Identação e Concatenação dos elementos do código."
   ]
  },
  {
   "cell_type": "code",
   "execution_count": 14,
   "id": "2440d6e2-2ee2-47d6-835d-072e2bbfe676",
   "metadata": {},
   "outputs": [
    {
     "name": "stdout",
     "output_type": "stream",
     "text": [
      "SCS Pizza\n"
     ]
    }
   ],
   "source": [
    "# Gerador do nome ficticio (variavel = concatenação de inputs)\n",
    "\n",
    "band_name = (hometown) + \" \" + (favorite_food)\n",
    "print(band_name)"
   ]
  },
  {
   "cell_type": "markdown",
   "id": "a909b9ce-3653-46fb-885f-99c6c81769cc",
   "metadata": {},
   "source": [
    "## Print Modifiers\n",
    "\n",
    "* print(\"A 'single queote' insade a double quote\")\n",
    "* print('A \"double quote\" inside a single quote')\n",
    "* print(\"Alternatively you cant just \\\"escape\\\" the quote\")\n",
    "\n",
    "### Ways to Manipulate print( ) function:"
   ]
  },
  {
   "cell_type": "code",
   "execution_count": 15,
   "id": "9c85aa6a-63a8-44bf-93f3-5b1898a44753",
   "metadata": {},
   "outputs": [
    {
     "name": "stdout",
     "output_type": "stream",
     "text": [
      "A 'single queote' insade a double quote\n"
     ]
    }
   ],
   "source": [
    "print(\"A 'single queote' insade a double quote\")"
   ]
  },
  {
   "cell_type": "code",
   "execution_count": 17,
   "id": "abb3abb5-d27c-447d-8a57-4fae735aa182",
   "metadata": {},
   "outputs": [
    {
     "name": "stdout",
     "output_type": "stream",
     "text": [
      "A \"double quote\" inside a single quote\n"
     ]
    }
   ],
   "source": [
    "print('A \"double quote\" inside a single quote')"
   ]
  },
  {
   "cell_type": "code",
   "execution_count": 18,
   "id": "67ef570d-4ff4-41c9-840e-7bacd7ccdfb5",
   "metadata": {
    "scrolled": true
   },
   "outputs": [
    {
     "name": "stdout",
     "output_type": "stream",
     "text": [
      "Alternatively you cant just \"escape\" the quote\n"
     ]
    }
   ],
   "source": [
    "print(\"Alternatively you cant just \\\"escape\\\" the quote\")"
   ]
  },
  {
   "cell_type": "markdown",
   "id": "9d335017-08dc-470a-9156-51be172368bf",
   "metadata": {},
   "source": [
    "### String Concatenation:\n",
    "\n",
    "* print(\"Hello \" + \"World\")"
   ]
  },
  {
   "cell_type": "code",
   "execution_count": null,
   "id": "c234c80f-aeda-458d-a4d3-a817b53ade7d",
   "metadata": {},
   "outputs": [],
   "source": [
    "print(\"Hello \" + \"World\")"
   ]
  },
  {
   "cell_type": "markdown",
   "id": "8c9e9ea6-cf15-4c11-97ed-41810cae9213",
   "metadata": {},
   "source": [
    "* print(\"Hello\" + \" \" + \"World\")"
   ]
  },
  {
   "cell_type": "code",
   "execution_count": 20,
   "id": "25f877cb-cf9f-467d-b257-237ff88eb527",
   "metadata": {},
   "outputs": [
    {
     "name": "stdout",
     "output_type": "stream",
     "text": [
      "Hello World\n"
     ]
    }
   ],
   "source": [
    "print(\"Hello\" + \" \" + \"World\")"
   ]
  },
  {
   "cell_type": "markdown",
   "id": "8d4904f6-62a6-4cef-83cb-8a16180eca40",
   "metadata": {},
   "source": [
    "* print(\"Hello\" + \" World\")"
   ]
  },
  {
   "cell_type": "code",
   "execution_count": 21,
   "id": "72123363-97c4-47ca-9370-be42fe5611d2",
   "metadata": {},
   "outputs": [
    {
     "name": "stdout",
     "output_type": "stream",
     "text": [
      "Hello World\n"
     ]
    }
   ],
   "source": [
    "print(\"Hello\" + \" World\")"
   ]
  },
  {
   "cell_type": "markdown",
   "id": "63893652-a38e-4b7d-bdf9-7297082f667e",
   "metadata": {},
   "source": [
    "###### Métodos diferentes, mesmo resultado."
   ]
  },
  {
   "cell_type": "markdown",
   "id": "d7384573-8075-4ceb-8e07-4ce1793b572c",
   "metadata": {},
   "source": [
    "## Input Function - Função input( ):\n",
    "\n",
    "* print(\"Hello \" + input(\"What's your name? \"))"
   ]
  },
  {
   "cell_type": "code",
   "execution_count": 22,
   "id": "8487d2fe-7925-429a-988f-a4d182046ba5",
   "metadata": {},
   "outputs": [
    {
     "name": "stdin",
     "output_type": "stream",
     "text": [
      "What's your name?  Bell\n"
     ]
    },
    {
     "name": "stdout",
     "output_type": "stream",
     "text": [
      "Hello Bell\n"
     ]
    }
   ],
   "source": [
    "print(\"Hello \" + input(\"What's your name? \"))"
   ]
  },
  {
   "cell_type": "code",
   "execution_count": 26,
   "id": "f720211e-2604-4b2a-b07a-0f6e48acc7f7",
   "metadata": {},
   "outputs": [
    {
     "name": "stdin",
     "output_type": "stream",
     "text": [
      " 2\n",
      " 5\n"
     ]
    },
    {
     "name": "stdout",
     "output_type": "stream",
     "text": [
      "10\n"
     ]
    }
   ],
   "source": [
    "num1 = int(input())\n",
    "num2 = int(input())\n",
    "\n",
    "print(num1 * num2)"
   ]
  },
  {
   "cell_type": "markdown",
   "id": "213c37a8-ac81-42bd-9166-66a5c7236f7e",
   "metadata": {},
   "source": [
    "### Creating Variables with Python:\n",
    "\n",
    "* input(\"What's your name\")\n",
    "* name = input(\"What's your name\") <- saving a input\n",
    "* print(name) <- printing the variable (\"input\")"
   ]
  },
  {
   "cell_type": "code",
   "execution_count": 29,
   "id": "7ab534ba-0ae6-475c-9723-cbfbc7f5199a",
   "metadata": {},
   "outputs": [
    {
     "name": "stdin",
     "output_type": "stream",
     "text": [
      "What's your name? Lucas\n"
     ]
    },
    {
     "name": "stdout",
     "output_type": "stream",
     "text": [
      "Hello, Lucas!\n"
     ]
    }
   ],
   "source": [
    "name = input(\"What's your name?\")\n",
    "print(\"Hello, \" + name + \"!\")"
   ]
  },
  {
   "cell_type": "markdown",
   "id": "4f71d394-529c-4b46-a91a-3dcc0c223daf",
   "metadata": {},
   "source": [
    "#### You can access and switch an variable value in the same code:"
   ]
  },
  {
   "cell_type": "code",
   "execution_count": 30,
   "id": "c2bd1732-29ba-4393-bf8d-0b611beda30e",
   "metadata": {},
   "outputs": [
    {
     "name": "stdout",
     "output_type": "stream",
     "text": [
      "Jack\n",
      "Angela\n"
     ]
    },
    {
     "name": "stdin",
     "output_type": "stream",
     "text": [
      "What is your name? Lucas\n"
     ]
    },
    {
     "name": "stdout",
     "output_type": "stream",
     "text": [
      "5\n"
     ]
    }
   ],
   "source": [
    "name = \"Jack\"\n",
    "print(name)\n",
    "\n",
    "name = \"Angela\"\n",
    "print(name)\n",
    "\n",
    "\n",
    "name = input(\"What is your name?\")\n",
    "length = len(name)\n",
    "print(length)"
   ]
  },
  {
   "cell_type": "markdown",
   "id": "37f1bf75-4852-46b5-b7ed-5c82745275c1",
   "metadata": {},
   "source": [
    "### Switching Variable Values Example Exercise:"
   ]
  },
  {
   "cell_type": "code",
   "execution_count": null,
   "id": "67316135-1a96-4958-8d50-1e55ce040e95",
   "metadata": {},
   "outputs": [],
   "source": [
    "# There are two variables, a and b\n",
    "a = input(\"Set a value to a:\" )\n",
    "b = input(\"Set a value to b:\" )\n",
    "\n",
    "# Create a third variable to help switch the values\n",
    "c = a\n",
    "a = b\n",
    "b = c\n",
    "\n",
    "print(\"a: \" + a)\n",
    "print(\"b: \" + b)"
   ]
  },
  {
   "cell_type": "markdown",
   "id": "c6efa817-7607-465f-a8be-6e14e357664a",
   "metadata": {},
   "source": [
    "## Naming Variables:\n",
    "\n",
    "* É necessário que a variável tenha um contexto\n",
    "* Adquirir boas práticas ao desenvolver o código\n",
    "* Nomes de variáveis no Python não devem começar com caracteres numéricos.\n",
    "* Letras maiúsculas e minúsculas são consideradas diferentes."
   ]
  },
  {
   "cell_type": "markdown",
   "id": "adcbc263-9649-4e1a-a495-ce70dab8969e",
   "metadata": {},
   "source": []
  },
  {
   "cell_type": "code",
   "execution_count": null,
   "id": "11572f15-d72f-48d3-9645-c9d6cf6b6f5d",
   "metadata": {},
   "outputs": [],
   "source": []
  },
  {
   "cell_type": "code",
   "execution_count": null,
   "id": "47ac7e8f-fa6e-426a-940c-838badcf0890",
   "metadata": {},
   "outputs": [],
   "source": []
  },
  {
   "cell_type": "code",
   "execution_count": null,
   "id": "41a24a0c-82e6-4cd3-b04c-910e6b13e993",
   "metadata": {},
   "outputs": [],
   "source": []
  },
  {
   "cell_type": "code",
   "execution_count": null,
   "id": "1662401d-9bf9-4f87-81c4-f34c002eca50",
   "metadata": {},
   "outputs": [],
   "source": []
  },
  {
   "cell_type": "code",
   "execution_count": null,
   "id": "98a3a93c-1ab2-426d-bddd-700c7c0712f6",
   "metadata": {},
   "outputs": [],
   "source": []
  }
 ],
 "metadata": {
  "kernelspec": {
   "display_name": "Python 3 (ipykernel)",
   "language": "python",
   "name": "python3"
  },
  "language_info": {
   "codemirror_mode": {
    "name": "ipython",
    "version": 3
   },
   "file_extension": ".py",
   "mimetype": "text/x-python",
   "name": "python",
   "nbconvert_exporter": "python",
   "pygments_lexer": "ipython3",
   "version": "3.11.7"
  }
 },
 "nbformat": 4,
 "nbformat_minor": 5
}
