{
 "cells": [
  {
   "cell_type": "markdown",
   "id": "f4687125-e1d5-4682-a5a2-69b28bebe633",
   "metadata": {},
   "source": [
    "# Day 4 - Randomisation and Python Lists"
   ]
  },
  {
   "cell_type": "markdown",
   "id": "55d09ff6-be09-407c-ac4c-b5d48410a6b7",
   "metadata": {},
   "source": [
    "## Random Module:"
   ]
  },
  {
   "cell_type": "markdown",
   "id": "23102cdd-1988-4fcf-96b9-25aa7b7c32c4",
   "metadata": {},
   "source": [
    "* Python Documentation link: https://www.askpython.com/python-modules/python-random-module-generate-random-numbers-sequences"
   ]
  },
  {
   "cell_type": "markdown",
   "id": "12b7afcd-61af-485e-afca-e38ef015e84b",
   "metadata": {},
   "source": [
    "* Each Module is responsable for a different function in your program. "
   ]
  },
  {
   "cell_type": "markdown",
   "id": "c39b5fe7-76cf-46ff-b10a-38b33adbc5fd",
   "metadata": {},
   "source": [
    "* You can create your own modules, by creating another file for your project. We can say that's your 'personal library'."
   ]
  },
  {
   "cell_type": "code",
   "execution_count": 37,
   "id": "56e945f7-8a15-4872-8d3a-e53e2a69d0d2",
   "metadata": {},
   "outputs": [
    {
     "name": "stdout",
     "output_type": "stream",
     "text": [
      "0\n",
      "1.742847128724716\n",
      "Your love score is: 37\n"
     ]
    }
   ],
   "source": [
    "import random\n",
    "\n",
    "random_integer = random.randint(0, 5)\n",
    "print(random_integer)\n",
    "\n",
    "random_float = random.random() * 5\n",
    "print(random_float)\n",
    "\n",
    "true_love = random.randint(1, 101)\n",
    "print(f'Your love score is: {true_love}')"
   ]
  },
  {
   "cell_type": "markdown",
   "id": "6ae9b355-36f7-421c-8839-9d9f9d9590dc",
   "metadata": {},
   "source": [
    "### Heads or Tails exercise:"
   ]
  },
  {
   "cell_type": "code",
   "execution_count": 39,
   "id": "4f5a78b0-5dc6-472f-82aa-09610f3310a2",
   "metadata": {},
   "outputs": [
    {
     "name": "stdout",
     "output_type": "stream",
     "text": [
      "Tails\n"
     ]
    }
   ],
   "source": [
    "import random\n",
    "\n",
    "random_side = random.randint(0, 1)\n",
    "\n",
    "if random_side == 1:\n",
    "    print(f'Heads')\n",
    "else:\n",
    "    print(f'Tails')"
   ]
  },
  {
   "cell_type": "markdown",
   "id": "d909c9e9-0128-435f-b848-d462cf12a122",
   "metadata": {},
   "source": [
    "## Lists:"
   ]
  },
  {
   "cell_type": "markdown",
   "id": "e806232c-4a66-405c-ad73-82672342e3dc",
   "metadata": {},
   "source": [
    "* We can call lists as \"data structures\". That's a way to organize and store data in Python."
   ]
  },
  {
   "cell_type": "markdown",
   "id": "4599577d-cc05-4fdb-b901-b67a6076eb1c",
   "metadata": {},
   "source": [
    "* https://docs.python.org/pt-br/3/tutorial/datastructures.html"
   ]
  },
  {
   "cell_type": "markdown",
   "id": "6ba94067-1cef-4c0e-9baf-b189cda52a37",
   "metadata": {},
   "source": [
    "#### Exercise 'who pays the bill':"
   ]
  },
  {
   "cell_type": "code",
   "execution_count": 85,
   "id": "5a578f5b-e638-4daa-bd93-069e62becbb8",
   "metadata": {},
   "outputs": [
    {
     "name": "stdin",
     "output_type": "stream",
     "text": [
      "How many people are going to dinner together? Lucas, Emanuelle, Rosana\n"
     ]
    },
    {
     "name": "stdout",
     "output_type": "stream",
     "text": [
      "e is going to buy the meal today!\n"
     ]
    }
   ],
   "source": [
    "names = input(\"How many people are going to dinner together?\")\n",
    "\n",
    "num_items = len(names)\n",
    "\n",
    "random_choice = random.randint(0, num_items - 1)\n",
    "who_pays = names[random_choice]\n",
    "\n",
    "print(f'{who_pays} is going to buy the meal today!')"
   ]
  },
  {
   "cell_type": "markdown",
   "id": "ddfede15-3198-4ba5-9d2a-9b0e621e051b",
   "metadata": {},
   "source": [
    "# Pesquisas e aplicação do tema:"
   ]
  },
  {
   "cell_type": "code",
   "execution_count": 26,
   "id": "413913a6-d288-4333-a528-dd00b8911ba4",
   "metadata": {},
   "outputs": [
    {
     "name": "stdout",
     "output_type": "stream",
     "text": [
      "Digite os 6 números (separados por espaço):\n"
     ]
    },
    {
     "name": "stdin",
     "output_type": "stream",
     "text": [
      " 03 07 10 25 31 52\n"
     ]
    },
    {
     "name": "stdout",
     "output_type": "stream",
     "text": [
      "Os números sorteados são: [59, 1, 52, 27, 2, 31]\n",
      "A probabilidade de coincidência é: 2.1433470507544583e-11\n"
     ]
    }
   ],
   "source": [
    "import random\n",
    "\n",
    "def calcular_probabilidade_coincidencia(numeros_usuario, numeros_sorteio):\n",
    "    # Número total de combinações possíveis\n",
    "    total_combinacoes_possiveis = 60 ** 6\n",
    "    \n",
    "    # Número de combinações que resultam em coincidência\n",
    "    combinacoes_coincidentes = 1\n",
    "    for numero in numeros_usuario:\n",
    "        if numero in numeros_sorteio:\n",
    "            combinacoes_coincidentes *= 60  # Porque há 60 opções para cada número\n",
    "            \n",
    "    # Probabilidade de coincidência\n",
    "    probabilidade_coincidencia = combinacoes_coincidentes / total_combinacoes_possiveis\n",
    "    \n",
    "    return probabilidade_coincidencia\n",
    "\n",
    "# Solicita ao usuário que insira os números\n",
    "print(\"Digite os 6 números (separados por espaço):\")\n",
    "numeros_usuario = int, input().split()\n",
    "\n",
    "# Gera os números aleatórios da Mega-Sena\n",
    "numeros_sorteio = random.sample(range(1, 61), 6)  # Utilizando random.sample para gerar números únicos\n",
    "\n",
    "# Exibe os números sorteados\n",
    "print(\"Os números sorteados são:\", numeros_sorteio)\n",
    "\n",
    "# Calcula a probabilidade de coincidência\n",
    "probabilidade = calcular_probabilidade_coincidencia(numeros_usuario, numeros_sorteio)\n",
    "\n",
    "# Exibe a probabilidade de coincidência\n",
    "print(\"A probabilidade de coincidência é:\", probabilidade)\n"
   ]
  },
  {
   "cell_type": "code",
   "execution_count": 21,
   "id": "a9325530-ee34-4399-ab4f-dcf06ebe8a34",
   "metadata": {},
   "outputs": [
    {
     "name": "stdout",
     "output_type": "stream",
     "text": [
      "Digite os 6 números (separados por espaço):\n"
     ]
    },
    {
     "name": "stdin",
     "output_type": "stream",
     "text": [
      " 03 07 10 25 31 52\n"
     ]
    },
    {
     "ename": "TypeError",
     "evalue": "'list' object is not callable",
     "output_type": "error",
     "traceback": [
      "\u001b[1;31m---------------------------------------------------------------------------\u001b[0m",
      "\u001b[1;31mTypeError\u001b[0m                                 Traceback (most recent call last)",
      "Cell \u001b[1;32mIn[21], line 20\u001b[0m\n\u001b[0;32m     18\u001b[0m \u001b[38;5;66;03m# Solicita ao usuário que insira os números\u001b[39;00m\n\u001b[0;32m     19\u001b[0m \u001b[38;5;28mprint\u001b[39m(\u001b[38;5;124m\"\u001b[39m\u001b[38;5;124mDigite os 6 números (separados por espaço):\u001b[39m\u001b[38;5;124m\"\u001b[39m)\n\u001b[1;32m---> 20\u001b[0m numeros_usuario \u001b[38;5;241m=\u001b[39m \u001b[38;5;28mlist\u001b[39m(\u001b[38;5;28mmap\u001b[39m(\u001b[38;5;28mint\u001b[39m, \u001b[38;5;28minput\u001b[39m()\u001b[38;5;241m.\u001b[39msplit()))\n\u001b[0;32m     22\u001b[0m \u001b[38;5;66;03m# Gera os números aleatórios da Mega-Sena\u001b[39;00m\n\u001b[0;32m     23\u001b[0m numeros_sorteio \u001b[38;5;241m=\u001b[39m gerar_numeros_megasena()\n",
      "\u001b[1;31mTypeError\u001b[0m: 'list' object is not callable"
     ]
    }
   ],
   "source": [
    "import random\n",
    "\n",
    "def calcular_probabilidade_coincidencia(numeros_usuario, numeros_sorteio):\n",
    "    # Número total de combinações possíveis\n",
    "    total_combinacoes_possiveis = 60 ** 6\n",
    "    \n",
    "    # Número de combinações que resultam em coincidência\n",
    "    combinacoes_coincidentes = 1\n",
    "    for numero in numeros_usuario:\n",
    "        if numero in numeros_sorteio:\n",
    "            combinacoes_coincidentes *= 60  # Porque há 60 opções para cada número\n",
    "            \n",
    "    # Probabilidade de coincidência\n",
    "    probabilidade_coincidencia = combinacoes_coincidentes / total_combinacoes_possiveis\n",
    "    \n",
    "    return probabilidade_coincidencia\n",
    "\n",
    "# Solicita ao usuário que insira os números\n",
    "print(\"Digite os 6 números (separados por espaço):\")\n",
    "numeros_usuario = list(map(int, input().split()))\n",
    "\n",
    "# Gera os números aleatórios da Mega-Sena\n",
    "numeros_sorteio = gerar_numeros_megasena()\n",
    "\n",
    "# Calcula a probabilidade de coincidência\n",
    "probabilidade = calcular_probabilidade_coincidencia(numeros_usuario, numeros_sorteio)\n",
    "\n",
    "# Exibe a probabilidade de coincidência\n",
    "print(\"A probabilidade de coincidência é:\", probabilidade)\n"
   ]
  },
  {
   "cell_type": "markdown",
   "id": "32091dcb-5ce9-42db-85f2-41965b95b5cb",
   "metadata": {},
   "source": [
    "## IndexErrors and Working with Nested Lists:"
   ]
  },
  {
   "cell_type": "markdown",
   "id": "7f995652-fdcc-4827-acfd-128db625d73e",
   "metadata": {},
   "source": [
    "* List elements are counted starting by 0. If you have 50 elements, the first one will be the 0, and the last will be 49."
   ]
  },
  {
   "cell_type": "code",
   "execution_count": 16,
   "id": "bd7cf194-f49e-4aff-b6a7-ede83b786de8",
   "metadata": {},
   "outputs": [
    {
     "name": "stdout",
     "output_type": "stream",
     "text": [
      "Hiding your treasure! X marks the spot.\n"
     ]
    },
    {
     "name": "stdin",
     "output_type": "stream",
     "text": [
      "Where do you want to hide? b3\n"
     ]
    },
    {
     "name": "stdout",
     "output_type": "stream",
     "text": [
      "['⬜️', '️⬜️', '️⬜️']\n",
      "['⬜️', '️⬜️', 'X']\n",
      "['⬜️', '️⬜️', '️⬜️']\n"
     ]
    }
   ],
   "source": [
    "#Criando estrutura base\n",
    "linha1 = [\"⬜️\",\"️⬜️\",\"️⬜️\"]\n",
    "linha2 = [\"⬜️\",\"️⬜️\",\"️⬜️\"]\n",
    "linha3 = [\"⬜️\",\"️⬜️\",\"️⬜️\"]\n",
    "map = [linha1, linha2, linha3]\n",
    "\n",
    "#Interação com o usuário + salvar input numa variável\n",
    "print(\"Hiding your treasure! X marks the spot.\")\n",
    "position = input(\"Where do you want to hide?\")\n",
    "#Converter variável para letra minúscula\n",
    "letter = position[0].lower()\n",
    "\n",
    "#Lista para mapear input\n",
    "abc = ['a', 'b', 'c']\n",
    "\n",
    "#Coordenada da letra entre as listas\n",
    "letter_index = abc.index(letter)\n",
    "#Coordenada do numero entre as listas\n",
    "number_index = int(position[1]) - 1\n",
    "#Gerando mapa\n",
    "map [letter_index][number_index] = \"X\"\n",
    "\n",
    "#Output\n",
    "print(f'{linha1}\\n{linha2}\\n{linha3}')"
   ]
  },
  {
   "cell_type": "markdown",
   "id": "a3d86d95-7a43-41a3-bb69-98397c84d197",
   "metadata": {},
   "source": [
    "# DAY 4 - FINAL PROJECT (rock, paper, scissors):"
   ]
  },
  {
   "cell_type": "code",
   "execution_count": 1,
   "id": "52a97731-b496-413d-8ad8-df2e6a55a518",
   "metadata": {},
   "outputs": [
    {
     "name": "stdin",
     "output_type": "stream",
     "text": [
      "Escolha seu jogo: 0 para pedra, 1 para papel, 2 para tesoura.\n",
      " 1\n"
     ]
    },
    {
     "name": "stdout",
     "output_type": "stream",
     "text": [
      "\n",
      "    _______\n",
      "---'   ____)____\n",
      "          ______)\n",
      "          _______)\n",
      "         _______)\n",
      "---.__________)\n",
      "\n",
      "Escolha do computador: \n",
      "\n",
      "    _______\n",
      "---'   ____)____\n",
      "          ______)\n",
      "          _______)\n",
      "         _______)\n",
      "---.__________)\n",
      "\n",
      "Vitória!\n",
      "Empate\n"
     ]
    }
   ],
   "source": [
    "import random\n",
    "\n",
    "#Salvando variáveis.\n",
    "rock = '''\n",
    "    _______\n",
    "---'   ____)\n",
    "      (_____)\n",
    "      (_____)\n",
    "      (____)\n",
    "---.__(___)\n",
    "'''\n",
    "\n",
    "paper = '''\n",
    "    _______\n",
    "---'   ____)____\n",
    "          ______)\n",
    "          _______)\n",
    "         _______)\n",
    "---.__________)\n",
    "'''\n",
    "\n",
    "scissors = '''\n",
    "    _______\n",
    "---'   ____)____\n",
    "          ______)\n",
    "       __________)\n",
    "      (____)\n",
    "---.__(___)\n",
    "'''\n",
    "#Criando lista com as variáveis acima.\n",
    "images = [rock, paper, scissors]\n",
    "\n",
    "#Escolha do usuário\n",
    "user_choice = int(input(\"Escolha seu jogo: 0 para pedra, 1 para papel, 2 para tesoura.\\n\"))\n",
    "\n",
    "#Verificações:\n",
    "if user_choice >= 3 or user_choice < 0:\n",
    "    print(\"Número de escolha inválido. Tente novamente.\") #Caso o número escolhido não esteja na lista\n",
    "else: #Se o número escolhido estiver na lista, o computador gera sua escolha aleatória.\n",
    "    print(images[user_choice])\n",
    "    \n",
    "    computer_choice = random.randint(0, 2) \n",
    "    print(\"Escolha do computador: \")\n",
    "    print(images[computer_choice]) \n",
    "    \n",
    "if user_choice == 0 and computer_choice == 2:\n",
    "        print(\"Vitória!\")\n",
    "elif computer_choice == 0 and user_choice == 2:\n",
    "        print(\"Derrota\")\n",
    "elif computer_choice > user_choice:\n",
    "        print(\"Derrota\")\n",
    "if user_choice >=3 and user_choice > computer_choice:\n",
    "        print(\"Derrota\")\n",
    "else:\n",
    "        print(\"Vitória!\")\n",
    "if computer_choice == user_choice:\n",
    "        print(\"Empate\")"
   ]
  },
  {
   "cell_type": "code",
   "execution_count": 7,
   "id": "1689812a-03cb-4535-a601-de4f3a054e4d",
   "metadata": {},
   "outputs": [
    {
     "name": "stdin",
     "output_type": "stream",
     "text": [
      "Escolha seu jogo: 0 para pedra, 1 para papel, 2 para tesoura.\n",
      " 0\n"
     ]
    },
    {
     "name": "stdout",
     "output_type": "stream",
     "text": [
      "\n",
      "    _______\n",
      "---'   ____)\n",
      "      (_____)\n",
      "      (_____)\n",
      "      (____)\n",
      "---.__(___)\n",
      "\n",
      "Escolha do computador: \n",
      "\n",
      "    _______\n",
      "---'   ____)____\n",
      "          ______)\n",
      "       __________)\n",
      "      (____)\n",
      "---.__(___)\n",
      "\n",
      "Vitória!\n"
     ]
    }
   ],
   "source": [
    "import random\n",
    "\n",
    "rock = '''\n",
    "    _______\n",
    "---'   ____)\n",
    "      (_____)\n",
    "      (_____)\n",
    "      (____)\n",
    "---.__(___)\n",
    "'''\n",
    "\n",
    "paper = '''\n",
    "    _______\n",
    "---'   ____)____\n",
    "          ______)\n",
    "          _______)\n",
    "         _______)\n",
    "---.__________)\n",
    "'''\n",
    "\n",
    "scissors = '''\n",
    "    _______\n",
    "---'   ____)____\n",
    "          ______)\n",
    "       __________)\n",
    "      (____)\n",
    "---.__(___)\n",
    "'''\n",
    "\n",
    "images = [rock, paper, scissors]\n",
    "\n",
    "user_choice = int(input(\"Escolha seu jogo: 0 para pedra, 1 para papel, 2 para tesoura.\\n\"))\n",
    "\n",
    "if user_choice >= 3 or user_choice < 0:\n",
    "    print(\"Número de escolha inválido. Tente novamente.\")\n",
    "else:\n",
    "    print(images[user_choice])\n",
    "    \n",
    "    computer_choice = random.randint(0, 2) \n",
    "    print(\"Escolha do computador: \")\n",
    "    print(images[computer_choice]) \n",
    "    \n",
    "    if (user_choice == 0 and computer_choice == 2) or \\\n",
    "       (user_choice == 1 and computer_choice == 0) or \\\n",
    "       (user_choice == 2 and computer_choice == 1):\n",
    "        print(\"Vitória!\")\n",
    "    elif user_choice == computer_choice:\n",
    "        print(\"Empate\")\n",
    "    else:\n",
    "        print(\"Derrota\")"
   ]
  },
  {
   "cell_type": "code",
   "execution_count": null,
   "id": "e8a3a6bc-5552-4460-b9b8-b17191cb5a5c",
   "metadata": {},
   "outputs": [],
   "source": []
  },
  {
   "cell_type": "code",
   "execution_count": null,
   "id": "31db4eed-6244-46dd-ad66-089b39526607",
   "metadata": {},
   "outputs": [],
   "source": []
  },
  {
   "cell_type": "code",
   "execution_count": null,
   "id": "52446f98-2aff-4b78-a6b7-1a8124c88e0e",
   "metadata": {},
   "outputs": [],
   "source": []
  },
  {
   "cell_type": "code",
   "execution_count": null,
   "id": "b9b7cdf4-f48f-4dff-b334-46499df98668",
   "metadata": {},
   "outputs": [],
   "source": []
  },
  {
   "cell_type": "code",
   "execution_count": null,
   "id": "92d16e64-dd6c-438e-9281-42d67a36a535",
   "metadata": {},
   "outputs": [],
   "source": []
  },
  {
   "cell_type": "code",
   "execution_count": null,
   "id": "ef541994-5811-4ad6-8b82-d048448c6b96",
   "metadata": {},
   "outputs": [],
   "source": []
  },
  {
   "cell_type": "code",
   "execution_count": null,
   "id": "3e7dd71c-e7c6-4d84-a655-51a923017ca8",
   "metadata": {},
   "outputs": [],
   "source": []
  },
  {
   "cell_type": "code",
   "execution_count": null,
   "id": "db381310-95af-4f76-ad27-abbd7c5f7ee3",
   "metadata": {},
   "outputs": [],
   "source": []
  },
  {
   "cell_type": "code",
   "execution_count": null,
   "id": "d5d54bdb-07d5-4624-ae43-5643e4f7252d",
   "metadata": {},
   "outputs": [],
   "source": []
  },
  {
   "cell_type": "code",
   "execution_count": null,
   "id": "ff92015d-e57d-4c36-a85d-4fe4e569c89c",
   "metadata": {},
   "outputs": [],
   "source": []
  },
  {
   "cell_type": "code",
   "execution_count": null,
   "id": "f90f411e-6ef5-4e0a-85c4-7637e06f8a13",
   "metadata": {},
   "outputs": [],
   "source": []
  },
  {
   "cell_type": "code",
   "execution_count": null,
   "id": "72a707b5-14e6-4e68-86ec-66f62628df65",
   "metadata": {},
   "outputs": [],
   "source": []
  },
  {
   "cell_type": "code",
   "execution_count": null,
   "id": "e8532fc7-c891-49f9-8d46-8381d6288af8",
   "metadata": {},
   "outputs": [],
   "source": []
  },
  {
   "cell_type": "code",
   "execution_count": null,
   "id": "9118a88a-db70-407c-a5f4-2e6cc1252205",
   "metadata": {},
   "outputs": [],
   "source": []
  },
  {
   "cell_type": "code",
   "execution_count": null,
   "id": "fe89ca7d-4a8a-4db1-b1b4-aaaaab3e70ab",
   "metadata": {},
   "outputs": [],
   "source": []
  },
  {
   "cell_type": "code",
   "execution_count": null,
   "id": "24d3d4c3-1e01-4032-bfdb-4b896a4cb435",
   "metadata": {},
   "outputs": [],
   "source": []
  },
  {
   "cell_type": "code",
   "execution_count": null,
   "id": "6e516088-624b-4b0b-a4e5-e7324c2a269c",
   "metadata": {},
   "outputs": [],
   "source": []
  },
  {
   "cell_type": "code",
   "execution_count": null,
   "id": "e835f15f-bfab-44a4-b530-5f7bfdcdcec4",
   "metadata": {},
   "outputs": [],
   "source": []
  },
  {
   "cell_type": "code",
   "execution_count": null,
   "id": "4a40b063-5ac7-43e1-a2f0-69d673085222",
   "metadata": {},
   "outputs": [],
   "source": []
  },
  {
   "cell_type": "code",
   "execution_count": null,
   "id": "f389d339-6a1e-4556-99ca-a6d919ac1064",
   "metadata": {},
   "outputs": [],
   "source": []
  },
  {
   "cell_type": "code",
   "execution_count": null,
   "id": "498f9420-14f9-4d2d-80e5-a1b256d42003",
   "metadata": {},
   "outputs": [],
   "source": []
  },
  {
   "cell_type": "code",
   "execution_count": null,
   "id": "ef95487c-86c4-4540-9df0-38caa5b56d55",
   "metadata": {},
   "outputs": [],
   "source": []
  },
  {
   "cell_type": "code",
   "execution_count": null,
   "id": "a190be86-f8e3-4195-81d7-67aae60c288f",
   "metadata": {},
   "outputs": [],
   "source": []
  }
 ],
 "metadata": {
  "kernelspec": {
   "display_name": "Python 3 (ipykernel)",
   "language": "python",
   "name": "python3"
  },
  "language_info": {
   "codemirror_mode": {
    "name": "ipython",
    "version": 3
   },
   "file_extension": ".py",
   "mimetype": "text/x-python",
   "name": "python",
   "nbconvert_exporter": "python",
   "pygments_lexer": "ipython3",
   "version": "3.11.7"
  }
 },
 "nbformat": 4,
 "nbformat_minor": 5
}
