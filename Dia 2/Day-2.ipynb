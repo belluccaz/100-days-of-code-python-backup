{
 "cells": [
  {
   "cell_type": "markdown",
   "id": "ed906c53-eb15-4649-94c1-7950dd5567e7",
   "metadata": {},
   "source": [
    "# Day 2 - Understanding Data Types and How to Manipulate Strings:"
   ]
  },
  {
   "cell_type": "markdown",
   "id": "eefdf48b-82f8-4d44-8619-01811eef416d",
   "metadata": {},
   "source": [
    "## Data Types:\n",
    "\n",
    "* Strings\n",
    "* Integer \n",
    "* Float\n",
    "* Boolean"
   ]
  },
  {
   "cell_type": "markdown",
   "id": "f9a20ef4-591c-4a64-9f49-4b930ae82063",
   "metadata": {},
   "source": [
    "### Strings:\n",
    "\n",
    "* Text type: \" \""
   ]
  },
  {
   "cell_type": "code",
   "execution_count": 2,
   "id": "4e4fd444-ea4a-423b-9708-c317fa708679",
   "metadata": {},
   "outputs": [
    {
     "data": {
      "text/plain": [
       "'o'"
      ]
     },
     "execution_count": 2,
     "metadata": {},
     "output_type": "execute_result"
    }
   ],
   "source": [
    "\"Hello\"[4] #you can call an specific character, starting by 0"
   ]
  },
  {
   "cell_type": "code",
   "execution_count": 1,
   "id": "b53a1da3-f90e-4998-92cf-10b76444077d",
   "metadata": {},
   "outputs": [
    {
     "name": "stdout",
     "output_type": "stream",
     "text": [
      "123342\n"
     ]
    }
   ],
   "source": [
    "print(\"123\" + \"342\") #here, we are only concatenating two STRINGS, it will not do an operation, because it's treated as an text"
   ]
  },
  {
   "cell_type": "markdown",
   "id": "bde9a94b-ad66-4645-8b55-53fb1de5c4f7",
   "metadata": {},
   "source": [
    "### Integer:\n",
    "\n",
    "* TRUE NUMBERS, with NO DECIMAL.\n",
    "* To LARGE INTEGERS, we replace \",\" with \"_\":"
   ]
  },
  {
   "cell_type": "code",
   "execution_count": 6,
   "id": "8846007a-0e45-4fef-8a90-cab373cd289c",
   "metadata": {},
   "outputs": [
    {
     "name": "stdout",
     "output_type": "stream",
     "text": [
      "125575\n"
     ]
    }
   ],
   "source": [
    "print(123_234+2341) #here, the numbers are treated like operational numbers, TRUE NUMBERS!"
   ]
  },
  {
   "cell_type": "markdown",
   "id": "1697a4b4-a46c-471a-90a4-cdab3b06b0a3",
   "metadata": {},
   "source": [
    "### Float:\n",
    "\n",
    "* Floating point numbers, DECIMAL NUMBERS:"
   ]
  },
  {
   "cell_type": "code",
   "execution_count": 7,
   "id": "ebacefae-7916-4e0e-82a3-064f210d14e6",
   "metadata": {},
   "outputs": [
    {
     "name": "stdout",
     "output_type": "stream",
     "text": [
      "3254.42\n"
     ]
    }
   ],
   "source": [
    "print(3131.42 + 123)"
   ]
  },
  {
   "cell_type": "markdown",
   "id": "4ce37726-670d-4bd0-a32d-5f07c0020397",
   "metadata": {},
   "source": [
    "### Boolean:\n",
    "\n",
    "* Only two possible values\n",
    "* True\n",
    "* False"
   ]
  },
  {
   "cell_type": "markdown",
   "id": "21a9d831-21d7-4408-b12f-611203d58bc7",
   "metadata": {},
   "source": [
    "## Converting Data Types:"
   ]
  },
  {
   "cell_type": "markdown",
   "id": "88e4197a-e1a4-492c-a991-6c728d9de0a8",
   "metadata": {},
   "source": [
    "### Data Analisys:\n",
    "\n",
    "* To obtain the type of data in an code, you can use the function: type()"
   ]
  },
  {
   "cell_type": "code",
   "execution_count": 12,
   "id": "252bff2a-451d-4be0-8285-1d7ac0ab829e",
   "metadata": {},
   "outputs": [],
   "source": [
    "# num_char = len(input(\"What's your name? \"))\n",
    "# new_num_char = str(num_char)\n",
    "# print(\"Your name has \" + new_num_char + \" characters\")\n",
    "# type(num_char)"
   ]
  },
  {
   "cell_type": "markdown",
   "id": "78eda262-9091-49dc-9b57-07c90c7babdb",
   "metadata": {},
   "source": [
    "### Conversions:"
   ]
  },
  {
   "cell_type": "markdown",
   "id": "f23b8090-bf39-48a8-92a0-3f72e3161820",
   "metadata": {},
   "source": [
    "* To make conversions between data types, you need to create a new variable, and call the function correspondently:\n",
    "\n",
    "str()\n",
    "int()\n",
    "float()"
   ]
  },
  {
   "cell_type": "markdown",
   "id": "cda915c0-00d9-4ffb-b458-76b01ec76e33",
   "metadata": {},
   "source": [
    "## Exercise:\n",
    "\n",
    "* BMI Calculator\n",
    "* Convert Strings into Numbers (hint: new variables, int(), str(), float() )\n",
    "* Make a new variable with the math that returns bmi: Weight(Kg) / Height² (m²)\n",
    "* Print the result"
   ]
  },
  {
   "cell_type": "code",
   "execution_count": 46,
   "id": "43fe83c7-7b51-404f-835f-5e5580f9511b",
   "metadata": {},
   "outputs": [
    {
     "name": "stdin",
     "output_type": "stream",
     "text": [
      " 1.80\n",
      " 60\n"
     ]
    },
    {
     "name": "stdout",
     "output_type": "stream",
     "text": [
      "18\n"
     ]
    }
   ],
   "source": [
    "# 1st input: enter height in meters e.g: 1.65\n",
    "height = input()\n",
    "# 2nd input: enter weight in kilograms e.g: 72\n",
    "weight = input()\n",
    "# 🚨 Don't change the code above 👆\n",
    "\n",
    "# Write your code below this line 👇\n",
    "new_height = float(height)\n",
    "new_weight = int(weight)\n",
    "\n",
    "bmi = int(new_weight / new_height ** 2)\n",
    "print(bmi)"
   ]
  },
  {
   "cell_type": "markdown",
   "id": "59c9c789-aa1a-4440-a5ef-5134d115caf2",
   "metadata": {},
   "source": [
    "## Number Manipulation with Python"
   ]
  },
  {
   "cell_type": "markdown",
   "id": "142504ba-bf49-4c02-8493-e2811acbdee8",
   "metadata": {},
   "source": [
    "* To round numbers, you can use the function: round( )"
   ]
  },
  {
   "cell_type": "markdown",
   "id": "442116e9-8fe8-4891-94f9-1042359aa544",
   "metadata": {},
   "source": [
    "* Using // you turn the number into a int data type without rount it"
   ]
  },
  {
   "cell_type": "code",
   "execution_count": 49,
   "id": "c66444d3-bc56-4cc3-b619-6015ad75f22d",
   "metadata": {},
   "outputs": [
    {
     "name": "stdout",
     "output_type": "stream",
     "text": [
      "<class 'int'>\n"
     ]
    }
   ],
   "source": [
    "print(type(8 // 3))"
   ]
  },
  {
   "cell_type": "markdown",
   "id": "bd61b45f-7b3c-4c8a-80db-1b72abbf7e4c",
   "metadata": {},
   "source": [
    "* Using / you get a float number"
   ]
  },
  {
   "cell_type": "code",
   "execution_count": 50,
   "id": "a5b6cb0b-fbb5-402f-8fe7-b453e23bcb13",
   "metadata": {},
   "outputs": [
    {
     "name": "stdout",
     "output_type": "stream",
     "text": [
      "<class 'float'>\n"
     ]
    }
   ],
   "source": [
    "print(type(8 / 3))"
   ]
  },
  {
   "cell_type": "markdown",
   "id": "6c4a4e92-ac7a-411f-8f49-90ac50007622",
   "metadata": {},
   "source": [
    "## f-Strings:\n",
    "\n",
    "* Useful to combine different data types inside strings\n",
    "* You should start the f-strings like: f\"content\"\n",
    "* You can put variables inside an f-string, just by using {variable} inside the string, like: f\"content {variable}... content {variable}\"\n"
   ]
  },
  {
   "cell_type": "markdown",
   "id": "6833f626-f933-4b7c-86ff-70227c5129b6",
   "metadata": {},
   "source": [
    "### Example:"
   ]
  },
  {
   "cell_type": "code",
   "execution_count": 52,
   "id": "47a23c67-ee35-463e-ada7-5168dfb4cf97",
   "metadata": {},
   "outputs": [
    {
     "name": "stdout",
     "output_type": "stream",
     "text": [
      "your score is 0m your height is 1.8, you are winning is True.\n"
     ]
    }
   ],
   "source": [
    "score = 0\n",
    "height = 1.8\n",
    "isWinning = True\n",
    "\n",
    "#f-String\n",
    "print(f\"your score is {score}m your height is {height}, you are winning is {isWinning}.\")"
   ]
  },
  {
   "cell_type": "code",
   "execution_count": 55,
   "id": "6e12e8bb-4802-4ca8-b73d-3af40879069c",
   "metadata": {},
   "outputs": [
    {
     "name": "stdin",
     "output_type": "stream",
     "text": [
      " 15\n"
     ]
    },
    {
     "name": "stdout",
     "output_type": "stream",
     "text": [
      "You have 3900 left.\n"
     ]
    }
   ],
   "source": [
    "age = input()\n",
    "# 🚨 Don't change the code above 👆\n",
    "# Write your code below this line 👇\n",
    "years = 90 - int(age)\n",
    "weeks = years * 52\n",
    "\n",
    "print(f\"You have {weeks} left.\")"
   ]
  },
  {
   "cell_type": "markdown",
   "id": "31aca47c-1114-408b-85b2-6be6b752d522",
   "metadata": {},
   "source": [
    "# Final Project (Day 2) - TIP CALCULATOR:\n",
    "\n",
    "* Code must have:\n",
    "\n",
    "Mensagem de boas-vindas;\n",
    "\n",
    "Input solicitando o valor da conta float(bill);\n",
    "\n",
    "Input solicitando porcentagem de gorgeta int(tip), 10, 12 ou 15;\n",
    "\n",
    "Input solicitando o numero de pessoas na mesa;\n",
    "\n",
    "\n"
   ]
  },
  {
   "cell_type": "code",
   "execution_count": null,
   "id": "4a9e6410-181e-493c-8f12-6ac293b9aa70",
   "metadata": {},
   "outputs": [],
   "source": [
    "# valor da conta\n",
    "bill = float(input(\"Qual o valor da conta? R$ \"))\n",
    "# porcentagem da gorjeta\n",
    "tip = int(input(\"Qual a porcentagem da gorjeta? 10, 12 ou 15 \"))\n",
    "# total de pessoas na mesa\n",
    "people = int(input(\"Quantas pessoas irão dividir a conta? \"))\n",
    "\n",
    "# conversões e calculos\n",
    "# 1 - gorjeta para porcentagem\n",
    "tip_as_percent = tip / 100\n",
    "# 2 - novo valor da gorjeta = valor * gorjeta em porcentagem\n",
    "tip_total = bill * tip_as_percent\n",
    "# 3 - novo valor da conta = valor + gorjeta \n",
    "bill_amount = bill + tip_total\n",
    "# 4 - valor por pessoa = novo valor da conta / people\n",
    "bill_per_person = bill_amount / people\n",
    "# 5 - valor final round(valor por pessoa, 2)\n",
    "final_amount = round(bill_per_person, 2)\n",
    "\n",
    "# Resultado Final \n",
    "\n",
    "print(f\"Cada pessoa deverá pagar: R$ {final_amount}\")\n",
    "\n",
    "\n",
    "\n",
    "\n"
   ]
  },
  {
   "cell_type": "code",
   "execution_count": null,
   "id": "ec750492-7b18-4271-88c9-4e54eeb0310d",
   "metadata": {},
   "outputs": [],
   "source": []
  },
  {
   "cell_type": "code",
   "execution_count": null,
   "id": "8900bd3e-3d88-4bbd-ba5e-8e8dc69d2778",
   "metadata": {},
   "outputs": [],
   "source": []
  },
  {
   "cell_type": "code",
   "execution_count": null,
   "id": "5171e04d-de55-4c75-b77f-a3ffd0b2b127",
   "metadata": {},
   "outputs": [],
   "source": []
  },
  {
   "cell_type": "code",
   "execution_count": null,
   "id": "c930d914-f58e-43f6-96e2-cf91beea18cb",
   "metadata": {},
   "outputs": [],
   "source": []
  },
  {
   "cell_type": "code",
   "execution_count": null,
   "id": "054b7283-6e05-4e9e-af55-9116555e2d84",
   "metadata": {},
   "outputs": [],
   "source": []
  },
  {
   "cell_type": "code",
   "execution_count": null,
   "id": "02eb122f-ccd7-487a-8282-de16ccde6c93",
   "metadata": {},
   "outputs": [],
   "source": []
  },
  {
   "cell_type": "code",
   "execution_count": null,
   "id": "8f7cc186-92a6-42b2-b2ed-80bd372e338e",
   "metadata": {},
   "outputs": [],
   "source": []
  },
  {
   "cell_type": "code",
   "execution_count": null,
   "id": "29979289-5dbe-4b4d-8312-ad1b1ec18d1a",
   "metadata": {},
   "outputs": [],
   "source": []
  },
  {
   "cell_type": "code",
   "execution_count": null,
   "id": "ea99651d-db67-485b-ad25-511f7fd02080",
   "metadata": {},
   "outputs": [],
   "source": []
  }
 ],
 "metadata": {
  "kernelspec": {
   "display_name": "Python 3 (ipykernel)",
   "language": "python",
   "name": "python3"
  },
  "language_info": {
   "codemirror_mode": {
    "name": "ipython",
    "version": 3
   },
   "file_extension": ".py",
   "mimetype": "text/x-python",
   "name": "python",
   "nbconvert_exporter": "python",
   "pygments_lexer": "ipython3",
   "version": "3.11.7"
  }
 },
 "nbformat": 4,
 "nbformat_minor": 5
}
