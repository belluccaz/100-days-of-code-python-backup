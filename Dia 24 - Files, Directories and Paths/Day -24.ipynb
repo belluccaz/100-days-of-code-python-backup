{
 "cells": [
  {
   "cell_type": "markdown",
   "metadata": {},
   "source": [
    "# Day-24 - Files, Directories and Paths.\n",
    "\n",
    "1 - Using this knowledge, we will create a new feature for our snake game.\n",
    "\n",
    "2 - The feature must save and show the highest score in our game while we play it.\n"
   ]
  }
 ],
 "metadata": {
  "language_info": {
   "name": "python"
  }
 },
 "nbformat": 4,
 "nbformat_minor": 2
}
